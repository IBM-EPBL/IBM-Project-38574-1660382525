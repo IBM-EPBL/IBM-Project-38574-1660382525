{
 "cells": [
  {
   "cell_type": "markdown",
   "id": "2fc989cf",
   "metadata": {},
   "source": [
    "# importing the libraries "
   ]
  },
  {
   "cell_type": "code",
   "execution_count": null,
   "id": "07513c2d",
   "metadata": {},
   "outputs": [],
   "source": [
    "# import pandas as pd\n",
    "import seaborn as sns\n",
    "import numpy as np\n",
    "from sklearn.preprocessing import StandardScaler\n",
    "from sklearn.model_selection import train_test_split"
   ]
  },
  {
   "cell_type": "markdown",
   "id": "a24fbdf2",
   "metadata": {},
   "source": [
    "# Loading the dataset "
   ]
  },
  {
   "cell_type": "code",
   "execution_count": 9,
   "id": "4284dde5",
   "metadata": {
    "scrolled": true
   },
   "outputs": [
    {
     "data": {
      "text/html": [
       "<div>\n",
       "<style scoped>\n",
       "    .dataframe tbody tr th:only-of-type {\n",
       "        vertical-align: middle;\n",
       "    }\n",
       "\n",
       "    .dataframe tbody tr th {\n",
       "        vertical-align: top;\n",
       "    }\n",
       "\n",
       "    .dataframe thead th {\n",
       "        text-align: right;\n",
       "    }\n",
       "</style>\n",
       "<table border=\"1\" class=\"dataframe\">\n",
       "  <thead>\n",
       "    <tr style=\"text-align: right;\">\n",
       "      <th></th>\n",
       "      <th>Sex</th>\n",
       "      <th>Length</th>\n",
       "      <th>Diameter</th>\n",
       "      <th>Height</th>\n",
       "      <th>Whole weight</th>\n",
       "      <th>Shucked weight</th>\n",
       "      <th>Viscera weight</th>\n",
       "      <th>Shell weight</th>\n",
       "      <th>Rings</th>\n",
       "    </tr>\n",
       "  </thead>\n",
       "  <tbody>\n",
       "    <tr>\n",
       "      <th>0</th>\n",
       "      <td>M</td>\n",
       "      <td>0.455</td>\n",
       "      <td>0.365</td>\n",
       "      <td>0.095</td>\n",
       "      <td>0.5140</td>\n",
       "      <td>0.2245</td>\n",
       "      <td>0.1010</td>\n",
       "      <td>0.150</td>\n",
       "      <td>15</td>\n",
       "    </tr>\n",
       "    <tr>\n",
       "      <th>1</th>\n",
       "      <td>M</td>\n",
       "      <td>0.350</td>\n",
       "      <td>0.265</td>\n",
       "      <td>0.090</td>\n",
       "      <td>0.2255</td>\n",
       "      <td>0.0995</td>\n",
       "      <td>0.0485</td>\n",
       "      <td>0.070</td>\n",
       "      <td>7</td>\n",
       "    </tr>\n",
       "    <tr>\n",
       "      <th>2</th>\n",
       "      <td>F</td>\n",
       "      <td>0.530</td>\n",
       "      <td>0.420</td>\n",
       "      <td>0.135</td>\n",
       "      <td>0.6770</td>\n",
       "      <td>0.2565</td>\n",
       "      <td>0.1415</td>\n",
       "      <td>0.210</td>\n",
       "      <td>9</td>\n",
       "    </tr>\n",
       "    <tr>\n",
       "      <th>3</th>\n",
       "      <td>M</td>\n",
       "      <td>0.440</td>\n",
       "      <td>0.365</td>\n",
       "      <td>0.125</td>\n",
       "      <td>0.5160</td>\n",
       "      <td>0.2155</td>\n",
       "      <td>0.1140</td>\n",
       "      <td>0.155</td>\n",
       "      <td>10</td>\n",
       "    </tr>\n",
       "    <tr>\n",
       "      <th>4</th>\n",
       "      <td>I</td>\n",
       "      <td>0.330</td>\n",
       "      <td>0.255</td>\n",
       "      <td>0.080</td>\n",
       "      <td>0.2050</td>\n",
       "      <td>0.0895</td>\n",
       "      <td>0.0395</td>\n",
       "      <td>0.055</td>\n",
       "      <td>7</td>\n",
       "    </tr>\n",
       "  </tbody>\n",
       "</table>\n",
       "</div>"
      ],
      "text/plain": [
       "  Sex  Length  Diameter  Height  Whole weight  Shucked weight  Viscera weight  \\\n",
       "0   M   0.455     0.365   0.095        0.5140          0.2245          0.1010   \n",
       "1   M   0.350     0.265   0.090        0.2255          0.0995          0.0485   \n",
       "2   F   0.530     0.420   0.135        0.6770          0.2565          0.1415   \n",
       "3   M   0.440     0.365   0.125        0.5160          0.2155          0.1140   \n",
       "4   I   0.330     0.255   0.080        0.2050          0.0895          0.0395   \n",
       "\n",
       "   Shell weight  Rings  \n",
       "0         0.150     15  \n",
       "1         0.070      7  \n",
       "2         0.210      9  \n",
       "3         0.155     10  \n",
       "4         0.055      7  "
      ]
     },
     "execution_count": 9,
     "metadata": {},
     "output_type": "execute_result"
    }
   ],
   "source": [
    "df=pd.read_csv(r'C:\\Users\\Admin\\Downloads\\abalone.csv')\n",
    "df.head()\n",
    "\n"
   ]
  },
  {
   "cell_type": "markdown",
   "id": "2af2808b",
   "metadata": {},
   "source": [
    "# Visualizing and analyzing the dataset"
   ]
  },
  {
   "cell_type": "markdown",
   "id": "2d1bd19f",
   "metadata": {},
   "source": [
    "# Check null values "
   ]
  },
  {
   "cell_type": "code",
   "execution_count": 13,
   "id": "3b4f5127",
   "metadata": {},
   "outputs": [
    {
     "data": {
      "text/plain": [
       "Sex               0\n",
       "Length            0\n",
       "Diameter          0\n",
       "Height            0\n",
       "Whole weight      0\n",
       "Shucked weight    0\n",
       "Viscera weight    0\n",
       "Shell weight      0\n",
       "Rings             0\n",
       "dtype: int64"
      ]
     },
     "execution_count": 13,
     "metadata": {},
     "output_type": "execute_result"
    }
   ],
   "source": [
    "# checking null values\n",
    "df.isnull().sum()\n"
   ]
  },
  {
   "cell_type": "code",
   "execution_count": 6,
   "id": "0e4b1d2c",
   "metadata": {},
   "outputs": [],
   "source": [
    "import matplotlib.pyplot as plt\n",
    "import seaborn as sns"
   ]
  },
  {
   "cell_type": "markdown",
   "id": "6ed0d8be",
   "metadata": {},
   "source": [
    "# UNIVARIATE ANALYSIS"
   ]
  },
  {
   "cell_type": "code",
   "execution_count": 192,
   "id": "df67491d",
   "metadata": {},
   "outputs": [
    {
     "name": "stderr",
     "output_type": "stream",
     "text": [
      "C:\\Users\\Admin\\Anaconda3\\lib\\site-packages\\seaborn\\distributions.py:2619: FutureWarning: `distplot` is a deprecated function and will be removed in a future version. Please adapt your code to use either `displot` (a figure-level function with similar flexibility) or `histplot` (an axes-level function for histograms).\n",
      "  warnings.warn(msg, FutureWarning)\n"
     ]
    },
    {
     "data": {
      "text/plain": [
       "<AxesSubplot:xlabel='height', ylabel='Density'>"
      ]
     },
     "execution_count": 192,
     "metadata": {},
     "output_type": "execute_result"
    },
    {
     "data": {
      "image/png": "[encoded data removed]",
      "text/plain": [
       "<Figure size 640x480 with 1 Axes>"
      ]
     },
     "metadata": {},
     "output_type": "display_data"
    }
   ],
   "source": [
    "sns.distplot(df.height)"
   ]
  },
  {
   "cell_type": "code",
   "execution_count": 191,
   "id": "ed0c8906",
   "metadata": {},
   "outputs": [
    {
     "data": {
      "text/plain": [
       "Diameter          float64\n",
       "Length            float64\n",
       "height              int64\n",
       "Whole weight      float64\n",
       "Shell weight      float64\n",
       "shucked weight    float64\n",
       "Viscera weight    float64\n",
       "Rings             float64\n",
       "dtype: object"
      ]
     },
     "execution_count": 191,
     "metadata": {},
     "output_type": "execute_result"
    }
   ],
   "source": [
    "df.dtypes\n",
    "\n"
   ]
  },
  {
   "cell_type": "code",
   "execution_count": 10,
   "id": "372815b8",
   "metadata": {},
   "outputs": [
    {
     "data": {
      "image/png": "[encoded data removed]",
      "text/plain": [
       "<Figure size 640x480 with 1 Axes>"
      ]
     },
     "metadata": {},
     "output_type": "display_data"
    }
   ],
   "source": [
    "plt.scatter(df.index,df['Shell weight'])\n",
    "plt.show()\n"
   ]
  },
  {
   "cell_type": "code",
   "execution_count": 22,
   "id": "2f219a24",
   "metadata": {},
   "outputs": [
    {
     "data": {
      "text/plain": [
       "<seaborn.axisgrid.FacetGrid at 0x188466d0f10>"
      ]
     },
     "execution_count": 22,
     "metadata": {},
     "output_type": "execute_result"
    },
    {
     "data": {
      "image/png": "[encoded data removed]",
      "text/plain": [
       "<Figure size 500x500 with 1 Axes>"
      ]
     },
     "metadata": {},
     "output_type": "display_data"
    }
   ],
   "source": [
    "sns.displot(df[\"Shell weight\"],color='darkorange')"
   ]
  },
  {
   "cell_type": "markdown",
   "id": "29599f94",
   "metadata": {},
   "source": [
    "# BIVARIATE ANALYSIS"
   ]
  },
  {
   "cell_type": "code",
   "execution_count": 325,
   "id": "a5f50421",
   "metadata": {},
   "outputs": [
    {
     "data": {
      "text/plain": [
       "sex               False\n",
       "Diameter          False\n",
       "Length            False\n",
       "height            False\n",
       "Whole weight      False\n",
       "Shell weight      False\n",
       "shucked weight    False\n",
       "Viscera weight    False\n",
       "Rings             False\n",
       "dtype: bool"
      ]
     },
     "execution_count": 325,
     "metadata": {},
     "output_type": "execute_result"
    }
   ],
   "source": [
    "df.isnull().any()"
   ]
  },
  {
   "cell_type": "code",
   "execution_count": 326,
   "id": "a23d8361",
   "metadata": {},
   "outputs": [],
   "source": [
    " import pandas as pd\n",
    "#create DataFrame\n",
    "df=pd.DataFrame({'sex':['M','M','F','M','F'],\n",
    "                 'Diameter':[0.365,0.265,0.42,0.365,0.255],\n",
    "                 'Length':[0.455,0.35,0.53,0.44,0.33],\n",
    "                 'height':[0.095,0.09,0.135,0.125,0.08],\n",
    "                 'Whole weight':[0.514,0.2255,0.677,0.516,0.205],\n",
    "                'Shell weight':[0.15,0.07,0.21,0.155,0.12],\n",
    "                'shucked weight':[0.2245,0.0995,0.2565,0.2155,0.0895],\n",
    "                 'Viscera weight':[0.101,0.0485,0.1415,0.114,0.0395],\n",
    "                'Rings':[15,7,9,10,7]})"
   ]
  },
  {
   "cell_type": "code",
   "execution_count": 327,
   "id": "2dd40ee7",
   "metadata": {},
   "outputs": [
    {
     "data": {
      "text/html": [
       "<div>\n",
       "<style scoped>\n",
       "    .dataframe tbody tr th:only-of-type {\n",
       "        vertical-align: middle;\n",
       "    }\n",
       "\n",
       "    .dataframe tbody tr th {\n",
       "        vertical-align: top;\n",
       "    }\n",
       "\n",
       "    .dataframe thead th {\n",
       "        text-align: right;\n",
       "    }\n",
       "</style>\n",
       "<table border=\"1\" class=\"dataframe\">\n",
       "  <thead>\n",
       "    <tr style=\"text-align: right;\">\n",
       "      <th></th>\n",
       "      <th>sex</th>\n",
       "      <th>Diameter</th>\n",
       "      <th>Length</th>\n",
       "      <th>height</th>\n",
       "      <th>Whole weight</th>\n",
       "      <th>Shell weight</th>\n",
       "      <th>shucked weight</th>\n",
       "      <th>Viscera weight</th>\n",
       "      <th>Rings</th>\n",
       "    </tr>\n",
       "  </thead>\n",
       "  <tbody>\n",
       "    <tr>\n",
       "      <th>0</th>\n",
       "      <td>M</td>\n",
       "      <td>0.365</td>\n",
       "      <td>0.455</td>\n",
       "      <td>0.095</td>\n",
       "      <td>0.5140</td>\n",
       "      <td>0.150</td>\n",
       "      <td>0.2245</td>\n",
       "      <td>0.1010</td>\n",
       "      <td>15</td>\n",
       "    </tr>\n",
       "    <tr>\n",
       "      <th>1</th>\n",
       "      <td>M</td>\n",
       "      <td>0.265</td>\n",
       "      <td>0.350</td>\n",
       "      <td>0.090</td>\n",
       "      <td>0.2255</td>\n",
       "      <td>0.070</td>\n",
       "      <td>0.0995</td>\n",
       "      <td>0.0485</td>\n",
       "      <td>7</td>\n",
       "    </tr>\n",
       "    <tr>\n",
       "      <th>2</th>\n",
       "      <td>F</td>\n",
       "      <td>0.420</td>\n",
       "      <td>0.530</td>\n",
       "      <td>0.135</td>\n",
       "      <td>0.6770</td>\n",
       "      <td>0.210</td>\n",
       "      <td>0.2565</td>\n",
       "      <td>0.1415</td>\n",
       "      <td>9</td>\n",
       "    </tr>\n",
       "    <tr>\n",
       "      <th>3</th>\n",
       "      <td>M</td>\n",
       "      <td>0.365</td>\n",
       "      <td>0.440</td>\n",
       "      <td>0.125</td>\n",
       "      <td>0.5160</td>\n",
       "      <td>0.155</td>\n",
       "      <td>0.2155</td>\n",
       "      <td>0.1140</td>\n",
       "      <td>10</td>\n",
       "    </tr>\n",
       "    <tr>\n",
       "      <th>4</th>\n",
       "      <td>F</td>\n",
       "      <td>0.255</td>\n",
       "      <td>0.330</td>\n",
       "      <td>0.080</td>\n",
       "      <td>0.2050</td>\n",
       "      <td>0.120</td>\n",
       "      <td>0.0895</td>\n",
       "      <td>0.0395</td>\n",
       "      <td>7</td>\n",
       "    </tr>\n",
       "  </tbody>\n",
       "</table>\n",
       "</div>"
      ],
      "text/plain": [
       "  sex  Diameter  Length  height  Whole weight  Shell weight  shucked weight  \\\n",
       "0   M     0.365   0.455   0.095        0.5140         0.150          0.2245   \n",
       "1   M     0.265   0.350   0.090        0.2255         0.070          0.0995   \n",
       "2   F     0.420   0.530   0.135        0.6770         0.210          0.2565   \n",
       "3   M     0.365   0.440   0.125        0.5160         0.155          0.2155   \n",
       "4   F     0.255   0.330   0.080        0.2050         0.120          0.0895   \n",
       "\n",
       "   Viscera weight  Rings  \n",
       "0          0.1010     15  \n",
       "1          0.0485      7  \n",
       "2          0.1415      9  \n",
       "3          0.1140     10  \n",
       "4          0.0395      7  "
      ]
     },
     "execution_count": 327,
     "metadata": {},
     "output_type": "execute_result"
    }
   ],
   "source": [
    "#views first four rows of Dataframe\n",
    "df.head()"
   ]
  },
  {
   "cell_type": "code",
   "execution_count": 329,
   "id": "56aaa1ce",
   "metadata": {},
   "outputs": [
    {
     "data": {
      "image/png": "[encoded data removed]",
      "text/plain": [
       "<Figure size 640x480 with 1 Axes>"
      ]
     },
     "metadata": {},
     "output_type": "display_data"
    }
   ],
   "source": [
    "plt.pie(df.sex.value_counts(),[0,0],labels=['Male','Female'])\n",
    "xlabel=['Male']\n",
    "ylabel=['Female']"
   ]
  },
  {
   "cell_type": "code",
   "execution_count": 310,
   "id": "a99735e7",
   "metadata": {
    "scrolled": false
   },
   "outputs": [
    {
     "data": {
      "text/html": [
       "<div>\n",
       "<style scoped>\n",
       "    .dataframe tbody tr th:only-of-type {\n",
       "        vertical-align: middle;\n",
       "    }\n",
       "\n",
       "    .dataframe tbody tr th {\n",
       "        vertical-align: top;\n",
       "    }\n",
       "\n",
       "    .dataframe thead th {\n",
       "        text-align: right;\n",
       "    }\n",
       "</style>\n",
       "<table border=\"1\" class=\"dataframe\">\n",
       "  <thead>\n",
       "    <tr style=\"text-align: right;\">\n",
       "      <th></th>\n",
       "      <th>Diameter</th>\n",
       "      <th>Length</th>\n",
       "      <th>height</th>\n",
       "      <th>Whole weight</th>\n",
       "      <th>Shell weight</th>\n",
       "      <th>shucked weight</th>\n",
       "      <th>Viscera weight</th>\n",
       "      <th>Rings</th>\n",
       "    </tr>\n",
       "  </thead>\n",
       "  <tbody>\n",
       "    <tr>\n",
       "      <th>Diameter</th>\n",
       "      <td>1.000000</td>\n",
       "      <td>0.991576</td>\n",
       "      <td>0.872567</td>\n",
       "      <td>0.999860</td>\n",
       "      <td>0.903168</td>\n",
       "      <td>0.991262</td>\n",
       "      <td>0.994140</td>\n",
       "      <td>0.547537</td>\n",
       "    </tr>\n",
       "    <tr>\n",
       "      <th>Length</th>\n",
       "      <td>0.991576</td>\n",
       "      <td>1.000000</td>\n",
       "      <td>0.857654</td>\n",
       "      <td>0.991530</td>\n",
       "      <td>0.897359</td>\n",
       "      <td>0.972236</td>\n",
       "      <td>0.980404</td>\n",
       "      <td>0.509128</td>\n",
       "    </tr>\n",
       "    <tr>\n",
       "      <th>height</th>\n",
       "      <td>0.872567</td>\n",
       "      <td>0.857654</td>\n",
       "      <td>1.000000</td>\n",
       "      <td>0.873811</td>\n",
       "      <td>0.791337</td>\n",
       "      <td>0.825387</td>\n",
       "      <td>0.917989</td>\n",
       "      <td>0.128300</td>\n",
       "    </tr>\n",
       "    <tr>\n",
       "      <th>Whole weight</th>\n",
       "      <td>0.999860</td>\n",
       "      <td>0.991530</td>\n",
       "      <td>0.873811</td>\n",
       "      <td>1.000000</td>\n",
       "      <td>0.910127</td>\n",
       "      <td>0.990022</td>\n",
       "      <td>0.994073</td>\n",
       "      <td>0.540848</td>\n",
       "    </tr>\n",
       "    <tr>\n",
       "      <th>Shell weight</th>\n",
       "      <td>0.903168</td>\n",
       "      <td>0.897359</td>\n",
       "      <td>0.791337</td>\n",
       "      <td>0.910127</td>\n",
       "      <td>1.000000</td>\n",
       "      <td>0.873074</td>\n",
       "      <td>0.893270</td>\n",
       "      <td>0.373810</td>\n",
       "    </tr>\n",
       "    <tr>\n",
       "      <th>shucked weight</th>\n",
       "      <td>0.991262</td>\n",
       "      <td>0.972236</td>\n",
       "      <td>0.825387</td>\n",
       "      <td>0.990022</td>\n",
       "      <td>0.873074</td>\n",
       "      <td>1.000000</td>\n",
       "      <td>0.980325</td>\n",
       "      <td>0.645262</td>\n",
       "    </tr>\n",
       "    <tr>\n",
       "      <th>Viscera weight</th>\n",
       "      <td>0.994140</td>\n",
       "      <td>0.980404</td>\n",
       "      <td>0.917989</td>\n",
       "      <td>0.994073</td>\n",
       "      <td>0.893270</td>\n",
       "      <td>0.980325</td>\n",
       "      <td>1.000000</td>\n",
       "      <td>0.483452</td>\n",
       "    </tr>\n",
       "    <tr>\n",
       "      <th>Rings</th>\n",
       "      <td>0.547537</td>\n",
       "      <td>0.509128</td>\n",
       "      <td>0.128300</td>\n",
       "      <td>0.540848</td>\n",
       "      <td>0.373810</td>\n",
       "      <td>0.645262</td>\n",
       "      <td>0.483452</td>\n",
       "      <td>1.000000</td>\n",
       "    </tr>\n",
       "  </tbody>\n",
       "</table>\n",
       "</div>"
      ],
      "text/plain": [
       "                Diameter    Length    height  Whole weight  Shell weight  \\\n",
       "Diameter        1.000000  0.991576  0.872567      0.999860      0.903168   \n",
       "Length          0.991576  1.000000  0.857654      0.991530      0.897359   \n",
       "height          0.872567  0.857654  1.000000      0.873811      0.791337   \n",
       "Whole weight    0.999860  0.991530  0.873811      1.000000      0.910127   \n",
       "Shell weight    0.903168  0.897359  0.791337      0.910127      1.000000   \n",
       "shucked weight  0.991262  0.972236  0.825387      0.990022      0.873074   \n",
       "Viscera weight  0.994140  0.980404  0.917989      0.994073      0.893270   \n",
       "Rings           0.547537  0.509128  0.128300      0.540848      0.373810   \n",
       "\n",
       "                shucked weight  Viscera weight     Rings  \n",
       "Diameter              0.991262        0.994140  0.547537  \n",
       "Length                0.972236        0.980404  0.509128  \n",
       "height                0.825387        0.917989  0.128300  \n",
       "Whole weight          0.990022        0.994073  0.540848  \n",
       "Shell weight          0.873074        0.893270  0.373810  \n",
       "shucked weight        1.000000        0.980325  0.645262  \n",
       "Viscera weight        0.980325        1.000000  0.483452  \n",
       "Rings                 0.645262        0.483452  1.000000  "
      ]
     },
     "execution_count": 310,
     "metadata": {},
     "output_type": "execute_result"
    }
   ],
   "source": [
    "#create correlation matrix\n",
    "df.corr()"
   ]
  },
  {
   "cell_type": "code",
   "execution_count": 330,
   "id": "e2d6f3e5",
   "metadata": {},
   "outputs": [
    {
     "data": {
      "text/plain": [
       "<AxesSubplot:>"
      ]
     },
     "execution_count": 330,
     "metadata": {},
     "output_type": "execute_result"
    },
    {
     "data": {
      "image/png": "[encoded data removed]",
      "text/plain": [
       "<Figure size 640x480 with 1 Axes>"
      ]
     },
     "metadata": {},
     "output_type": "display_data"
    }
   ],
   "source": [
    "df.plot.line()"
   ]
  },
  {
   "cell_type": "code",
   "execution_count": 331,
   "id": "1a9666d0",
   "metadata": {
    "scrolled": true
   },
   "outputs": [
    {
     "data": {
      "image/png": "[encoded data removed]",
      "text/plain": [
       "<Figure size 640x480 with 2 Axes>"
      ]
     },
     "metadata": {},
     "output_type": "display_data"
    }
   ],
   "source": [
    "sns.heatmap(df.corr(),annot = True)\n",
    "plt.show()"
   ]
  },
  {
   "cell_type": "code",
   "execution_count": 334,
   "id": "5d33a702",
   "metadata": {
    "scrolled": true
   },
   "outputs": [
    {
     "data": {
      "text/plain": [
       "<function matplotlib.pyplot.show(close=None, block=None)>"
      ]
     },
     "execution_count": 334,
     "metadata": {},
     "output_type": "execute_result"
    },
    {
     "data": {
      "image/png": "[encoded data removed]",
      "text/plain": [
       "<Figure size 2000x2000 with 72 Axes>"
      ]
     },
     "metadata": {},
     "output_type": "display_data"
    }
   ],
   "source": [
    "sns.pairplot(df)\n",
    "(plt.show)"
   ]
  },
  {
   "cell_type": "markdown",
   "id": "2b059c0a",
   "metadata": {},
   "source": [
    "# MULTIVARIATE  ANALYSIS"
   ]
  },
  {
   "cell_type": "code",
   "execution_count": 341,
   "id": "357a8ac9",
   "metadata": {},
   "outputs": [
    {
     "data": {
      "text/html": [
       "<div>\n",
       "<style scoped>\n",
       "    .dataframe tbody tr th:only-of-type {\n",
       "        vertical-align: middle;\n",
       "    }\n",
       "\n",
       "    .dataframe tbody tr th {\n",
       "        vertical-align: top;\n",
       "    }\n",
       "\n",
       "    .dataframe thead th {\n",
       "        text-align: right;\n",
       "    }\n",
       "</style>\n",
       "<table border=\"1\" class=\"dataframe\">\n",
       "  <thead>\n",
       "    <tr style=\"text-align: right;\">\n",
       "      <th></th>\n",
       "      <th>Diameter</th>\n",
       "      <th>Length</th>\n",
       "      <th>height</th>\n",
       "      <th>Whole weight</th>\n",
       "      <th>Shell weight</th>\n",
       "      <th>shucked weight</th>\n",
       "      <th>Viscera weight</th>\n",
       "      <th>Rings</th>\n",
       "    </tr>\n",
       "  </thead>\n",
       "  <tbody>\n",
       "    <tr>\n",
       "      <th>count</th>\n",
       "      <td>5.000000</td>\n",
       "      <td>5.000000</td>\n",
       "      <td>5.000000</td>\n",
       "      <td>5.000000</td>\n",
       "      <td>5.000000</td>\n",
       "      <td>5.000000</td>\n",
       "      <td>5.000000</td>\n",
       "      <td>5.000000</td>\n",
       "    </tr>\n",
       "    <tr>\n",
       "      <th>mean</th>\n",
       "      <td>0.334000</td>\n",
       "      <td>0.421000</td>\n",
       "      <td>0.105000</td>\n",
       "      <td>0.427500</td>\n",
       "      <td>0.141000</td>\n",
       "      <td>0.177100</td>\n",
       "      <td>0.088900</td>\n",
       "      <td>9.600000</td>\n",
       "    </tr>\n",
       "    <tr>\n",
       "      <th>std</th>\n",
       "      <td>0.071274</td>\n",
       "      <td>0.081731</td>\n",
       "      <td>0.023717</td>\n",
       "      <td>0.204863</td>\n",
       "      <td>0.051284</td>\n",
       "      <td>0.077008</td>\n",
       "      <td>0.043634</td>\n",
       "      <td>3.286335</td>\n",
       "    </tr>\n",
       "    <tr>\n",
       "      <th>min</th>\n",
       "      <td>0.255000</td>\n",
       "      <td>0.330000</td>\n",
       "      <td>0.080000</td>\n",
       "      <td>0.205000</td>\n",
       "      <td>0.070000</td>\n",
       "      <td>0.089500</td>\n",
       "      <td>0.039500</td>\n",
       "      <td>7.000000</td>\n",
       "    </tr>\n",
       "    <tr>\n",
       "      <th>25%</th>\n",
       "      <td>0.265000</td>\n",
       "      <td>0.350000</td>\n",
       "      <td>0.090000</td>\n",
       "      <td>0.225500</td>\n",
       "      <td>0.120000</td>\n",
       "      <td>0.099500</td>\n",
       "      <td>0.048500</td>\n",
       "      <td>7.000000</td>\n",
       "    </tr>\n",
       "    <tr>\n",
       "      <th>50%</th>\n",
       "      <td>0.365000</td>\n",
       "      <td>0.440000</td>\n",
       "      <td>0.095000</td>\n",
       "      <td>0.514000</td>\n",
       "      <td>0.150000</td>\n",
       "      <td>0.215500</td>\n",
       "      <td>0.101000</td>\n",
       "      <td>9.000000</td>\n",
       "    </tr>\n",
       "    <tr>\n",
       "      <th>75%</th>\n",
       "      <td>0.365000</td>\n",
       "      <td>0.455000</td>\n",
       "      <td>0.125000</td>\n",
       "      <td>0.516000</td>\n",
       "      <td>0.155000</td>\n",
       "      <td>0.224500</td>\n",
       "      <td>0.114000</td>\n",
       "      <td>10.000000</td>\n",
       "    </tr>\n",
       "    <tr>\n",
       "      <th>max</th>\n",
       "      <td>0.420000</td>\n",
       "      <td>0.530000</td>\n",
       "      <td>0.135000</td>\n",
       "      <td>0.677000</td>\n",
       "      <td>0.210000</td>\n",
       "      <td>0.256500</td>\n",
       "      <td>0.141500</td>\n",
       "      <td>15.000000</td>\n",
       "    </tr>\n",
       "  </tbody>\n",
       "</table>\n",
       "</div>"
      ],
      "text/plain": [
       "       Diameter    Length    height  Whole weight  Shell weight  \\\n",
       "count  5.000000  5.000000  5.000000      5.000000      5.000000   \n",
       "mean   0.334000  0.421000  0.105000      0.427500      0.141000   \n",
       "std    0.071274  0.081731  0.023717      0.204863      0.051284   \n",
       "min    0.255000  0.330000  0.080000      0.205000      0.070000   \n",
       "25%    0.265000  0.350000  0.090000      0.225500      0.120000   \n",
       "50%    0.365000  0.440000  0.095000      0.514000      0.150000   \n",
       "75%    0.365000  0.455000  0.125000      0.516000      0.155000   \n",
       "max    0.420000  0.530000  0.135000      0.677000      0.210000   \n",
       "\n",
       "       shucked weight  Viscera weight      Rings  \n",
       "count        5.000000        5.000000   5.000000  \n",
       "mean         0.177100        0.088900   9.600000  \n",
       "std          0.077008        0.043634   3.286335  \n",
       "min          0.089500        0.039500   7.000000  \n",
       "25%          0.099500        0.048500   7.000000  \n",
       "50%          0.215500        0.101000   9.000000  \n",
       "75%          0.224500        0.114000  10.000000  \n",
       "max          0.256500        0.141500  15.000000  "
      ]
     },
     "execution_count": 341,
     "metadata": {},
     "output_type": "execute_result"
    }
   ],
   "source": [
    "df.describe()"
   ]
  },
  {
   "cell_type": "code",
   "execution_count": 348,
   "id": "4f0eee61",
   "metadata": {},
   "outputs": [
    {
     "name": "stderr",
     "output_type": "stream",
     "text": [
      "C:\\Users\\Admin\\Anaconda3\\lib\\site-packages\\seaborn\\_decorators.py:36: FutureWarning: Pass the following variable as a keyword arg: x. From version 0.12, the only valid positional argument will be `data`, and passing other arguments without an explicit keyword will result in an error or misinterpretation.\n",
      "  warnings.warn(\n"
     ]
    },
    {
     "data": {
      "text/plain": [
       "<AxesSubplot:xlabel='Length'>"
      ]
     },
     "execution_count": 348,
     "metadata": {},
     "output_type": "execute_result"
    },
    {
     "data": {
      "image/png": "[encoded data removed]",
      "text/plain": [
       "<Figure size 640x480 with 1 Axes>"
      ]
     },
     "metadata": {},
     "output_type": "display_data"
    }
   ],
   "source": [
    "sns.boxplot(df.Length)"
   ]
  },
  {
   "cell_type": "code",
   "execution_count": 346,
   "id": "f26246e5",
   "metadata": {},
   "outputs": [
    {
     "data": {
      "text/html": [
       "<div>\n",
       "<style scoped>\n",
       "    .dataframe tbody tr th:only-of-type {\n",
       "        vertical-align: middle;\n",
       "    }\n",
       "\n",
       "    .dataframe tbody tr th {\n",
       "        vertical-align: top;\n",
       "    }\n",
       "\n",
       "    .dataframe thead th {\n",
       "        text-align: right;\n",
       "    }\n",
       "</style>\n",
       "<table border=\"1\" class=\"dataframe\">\n",
       "  <thead>\n",
       "    <tr style=\"text-align: right;\">\n",
       "      <th></th>\n",
       "      <th>sex</th>\n",
       "      <th>Diameter</th>\n",
       "      <th>Length</th>\n",
       "      <th>height</th>\n",
       "      <th>Whole weight</th>\n",
       "      <th>Shell weight</th>\n",
       "      <th>shucked weight</th>\n",
       "      <th>Viscera weight</th>\n",
       "      <th>Rings</th>\n",
       "    </tr>\n",
       "  </thead>\n",
       "  <tbody>\n",
       "    <tr>\n",
       "      <th>0</th>\n",
       "      <td>M</td>\n",
       "      <td>0.365</td>\n",
       "      <td>0.330</td>\n",
       "      <td>0.080</td>\n",
       "      <td>0.2050</td>\n",
       "      <td>0.070</td>\n",
       "      <td>0.0895</td>\n",
       "      <td>0.0395</td>\n",
       "      <td>7.0</td>\n",
       "    </tr>\n",
       "    <tr>\n",
       "      <th>1</th>\n",
       "      <td>NaN</td>\n",
       "      <td>NaN</td>\n",
       "      <td>0.350</td>\n",
       "      <td>0.090</td>\n",
       "      <td>0.2255</td>\n",
       "      <td>0.120</td>\n",
       "      <td>0.0995</td>\n",
       "      <td>0.0485</td>\n",
       "      <td>NaN</td>\n",
       "    </tr>\n",
       "    <tr>\n",
       "      <th>2</th>\n",
       "      <td>NaN</td>\n",
       "      <td>NaN</td>\n",
       "      <td>0.440</td>\n",
       "      <td>0.095</td>\n",
       "      <td>0.5140</td>\n",
       "      <td>0.150</td>\n",
       "      <td>0.2155</td>\n",
       "      <td>0.1010</td>\n",
       "      <td>NaN</td>\n",
       "    </tr>\n",
       "    <tr>\n",
       "      <th>3</th>\n",
       "      <td>NaN</td>\n",
       "      <td>NaN</td>\n",
       "      <td>0.455</td>\n",
       "      <td>0.125</td>\n",
       "      <td>0.5160</td>\n",
       "      <td>0.155</td>\n",
       "      <td>0.2245</td>\n",
       "      <td>0.1140</td>\n",
       "      <td>NaN</td>\n",
       "    </tr>\n",
       "    <tr>\n",
       "      <th>4</th>\n",
       "      <td>NaN</td>\n",
       "      <td>NaN</td>\n",
       "      <td>0.530</td>\n",
       "      <td>0.135</td>\n",
       "      <td>0.6770</td>\n",
       "      <td>0.210</td>\n",
       "      <td>0.2565</td>\n",
       "      <td>0.1415</td>\n",
       "      <td>NaN</td>\n",
       "    </tr>\n",
       "  </tbody>\n",
       "</table>\n",
       "</div>"
      ],
      "text/plain": [
       "   sex  Diameter  Length  height  Whole weight  Shell weight  shucked weight  \\\n",
       "0    M     0.365   0.330   0.080        0.2050         0.070          0.0895   \n",
       "1  NaN       NaN   0.350   0.090        0.2255         0.120          0.0995   \n",
       "2  NaN       NaN   0.440   0.095        0.5140         0.150          0.2155   \n",
       "3  NaN       NaN   0.455   0.125        0.5160         0.155          0.2245   \n",
       "4  NaN       NaN   0.530   0.135        0.6770         0.210          0.2565   \n",
       "\n",
       "   Viscera weight  Rings  \n",
       "0          0.0395    7.0  \n",
       "1          0.0485    NaN  \n",
       "2          0.1010    NaN  \n",
       "3          0.1140    NaN  \n",
       "4          0.1415    NaN  "
      ]
     },
     "execution_count": 346,
     "metadata": {},
     "output_type": "execute_result"
    }
   ],
   "source": [
    "df.mode()"
   ]
  },
  {
   "cell_type": "code",
   "execution_count": 349,
   "id": "05ed9c35",
   "metadata": {},
   "outputs": [
    {
     "data": {
      "text/plain": [
       "0.04550000000000001"
      ]
     },
     "execution_count": 349,
     "metadata": {},
     "output_type": "execute_result"
    }
   ],
   "source": [
    "max(df[\"height\"])-min(df[\"shucked weight\"])"
   ]
  },
  {
   "cell_type": "code",
   "execution_count": 365,
   "id": "b8ed9157",
   "metadata": {},
   "outputs": [
    {
     "data": {
      "text/plain": [
       "0.338"
      ]
     },
     "execution_count": 365,
     "metadata": {},
     "output_type": "execute_result"
    }
   ],
   "source": [
    "p1=df.Length.quantile(0.1)\n",
    "p1"
   ]
  },
  {
   "cell_type": "code",
   "execution_count": 366,
   "id": "48aacca5",
   "metadata": {
    "scrolled": true
   },
   "outputs": [
    {
     "data": {
      "text/html": [
       "<div>\n",
       "<style scoped>\n",
       "    .dataframe tbody tr th:only-of-type {\n",
       "        vertical-align: middle;\n",
       "    }\n",
       "\n",
       "    .dataframe tbody tr th {\n",
       "        vertical-align: top;\n",
       "    }\n",
       "\n",
       "    .dataframe thead th {\n",
       "        text-align: right;\n",
       "    }\n",
       "</style>\n",
       "<table border=\"1\" class=\"dataframe\">\n",
       "  <thead>\n",
       "    <tr style=\"text-align: right;\">\n",
       "      <th></th>\n",
       "      <th>sex</th>\n",
       "      <th>Diameter</th>\n",
       "      <th>Length</th>\n",
       "      <th>height</th>\n",
       "      <th>Whole weight</th>\n",
       "      <th>Shell weight</th>\n",
       "      <th>shucked weight</th>\n",
       "      <th>Viscera weight</th>\n",
       "      <th>Rings</th>\n",
       "    </tr>\n",
       "  </thead>\n",
       "  <tbody>\n",
       "    <tr>\n",
       "      <th>0</th>\n",
       "      <td>1</td>\n",
       "      <td>0.365</td>\n",
       "      <td>0.455</td>\n",
       "      <td>2</td>\n",
       "      <td>0.5140</td>\n",
       "      <td>0.150</td>\n",
       "      <td>0.2245</td>\n",
       "      <td>0.1010</td>\n",
       "      <td>15</td>\n",
       "    </tr>\n",
       "    <tr>\n",
       "      <th>1</th>\n",
       "      <td>1</td>\n",
       "      <td>0.265</td>\n",
       "      <td>0.350</td>\n",
       "      <td>1</td>\n",
       "      <td>0.2255</td>\n",
       "      <td>0.070</td>\n",
       "      <td>0.0995</td>\n",
       "      <td>0.0485</td>\n",
       "      <td>7</td>\n",
       "    </tr>\n",
       "    <tr>\n",
       "      <th>2</th>\n",
       "      <td>0</td>\n",
       "      <td>0.420</td>\n",
       "      <td>0.530</td>\n",
       "      <td>4</td>\n",
       "      <td>0.6770</td>\n",
       "      <td>0.210</td>\n",
       "      <td>0.2565</td>\n",
       "      <td>0.1415</td>\n",
       "      <td>9</td>\n",
       "    </tr>\n",
       "    <tr>\n",
       "      <th>3</th>\n",
       "      <td>1</td>\n",
       "      <td>0.365</td>\n",
       "      <td>0.440</td>\n",
       "      <td>3</td>\n",
       "      <td>0.5160</td>\n",
       "      <td>0.155</td>\n",
       "      <td>0.2155</td>\n",
       "      <td>0.1140</td>\n",
       "      <td>10</td>\n",
       "    </tr>\n",
       "    <tr>\n",
       "      <th>4</th>\n",
       "      <td>0</td>\n",
       "      <td>0.255</td>\n",
       "      <td>0.330</td>\n",
       "      <td>0</td>\n",
       "      <td>0.2050</td>\n",
       "      <td>0.120</td>\n",
       "      <td>0.0895</td>\n",
       "      <td>0.0395</td>\n",
       "      <td>7</td>\n",
       "    </tr>\n",
       "  </tbody>\n",
       "</table>\n",
       "</div>"
      ],
      "text/plain": [
       "   sex  Diameter  Length  height  Whole weight  Shell weight  shucked weight  \\\n",
       "0    1     0.365   0.455       2        0.5140         0.150          0.2245   \n",
       "1    1     0.265   0.350       1        0.2255         0.070          0.0995   \n",
       "2    0     0.420   0.530       4        0.6770         0.210          0.2565   \n",
       "3    1     0.365   0.440       3        0.5160         0.155          0.2155   \n",
       "4    0     0.255   0.330       0        0.2050         0.120          0.0895   \n",
       "\n",
       "   Viscera weight  Rings  \n",
       "0          0.1010     15  \n",
       "1          0.0485      7  \n",
       "2          0.1415      9  \n",
       "3          0.1140     10  \n",
       "4          0.0395      7  "
      ]
     },
     "execution_count": 366,
     "metadata": {},
     "output_type": "execute_result"
    }
   ],
   "source": [
    "from sklearn.preprocessing import LabelEncoder\n",
    "le=LabelEncoder()\n",
    "df.sex=le.fit_transform(df.sex)\n",
    "df.head()"
   ]
  },
  {
   "cell_type": "code",
   "execution_count": 373,
   "id": "8067912a",
   "metadata": {
    "scrolled": true
   },
   "outputs": [
    {
     "data": {
      "text/html": [
       "<div>\n",
       "<style scoped>\n",
       "    .dataframe tbody tr th:only-of-type {\n",
       "        vertical-align: middle;\n",
       "    }\n",
       "\n",
       "    .dataframe tbody tr th {\n",
       "        vertical-align: top;\n",
       "    }\n",
       "\n",
       "    .dataframe thead th {\n",
       "        text-align: right;\n",
       "    }\n",
       "</style>\n",
       "<table border=\"1\" class=\"dataframe\">\n",
       "  <thead>\n",
       "    <tr style=\"text-align: right;\">\n",
       "      <th></th>\n",
       "      <th>sex</th>\n",
       "      <th>Diameter</th>\n",
       "      <th>Length</th>\n",
       "      <th>height</th>\n",
       "      <th>Whole weight</th>\n",
       "      <th>Shell weight</th>\n",
       "      <th>shucked weight</th>\n",
       "      <th>Viscera weight</th>\n",
       "    </tr>\n",
       "  </thead>\n",
       "  <tbody>\n",
       "    <tr>\n",
       "      <th>0</th>\n",
       "      <td>0.816497</td>\n",
       "      <td>0.486278</td>\n",
       "      <td>0.465099</td>\n",
       "      <td>0.000000</td>\n",
       "      <td>0.472072</td>\n",
       "      <td>0.196209</td>\n",
       "      <td>0.688169</td>\n",
       "      <td>0.310038</td>\n",
       "    </tr>\n",
       "    <tr>\n",
       "      <th>1</th>\n",
       "      <td>0.816497</td>\n",
       "      <td>-1.082361</td>\n",
       "      <td>-0.971237</td>\n",
       "      <td>-0.707107</td>\n",
       "      <td>-1.102411</td>\n",
       "      <td>-1.547874</td>\n",
       "      <td>-1.126622</td>\n",
       "      <td>-1.035169</td>\n",
       "    </tr>\n",
       "    <tr>\n",
       "      <th>2</th>\n",
       "      <td>-1.224745</td>\n",
       "      <td>1.349030</td>\n",
       "      <td>1.491054</td>\n",
       "      <td>1.414214</td>\n",
       "      <td>1.361641</td>\n",
       "      <td>1.504271</td>\n",
       "      <td>1.152755</td>\n",
       "      <td>1.347770</td>\n",
       "    </tr>\n",
       "    <tr>\n",
       "      <th>3</th>\n",
       "      <td>0.816497</td>\n",
       "      <td>0.486278</td>\n",
       "      <td>0.259908</td>\n",
       "      <td>0.707107</td>\n",
       "      <td>0.482987</td>\n",
       "      <td>0.305215</td>\n",
       "      <td>0.557504</td>\n",
       "      <td>0.643137</td>\n",
       "    </tr>\n",
       "    <tr>\n",
       "      <th>4</th>\n",
       "      <td>-1.224745</td>\n",
       "      <td>-1.239225</td>\n",
       "      <td>-1.244825</td>\n",
       "      <td>-1.414214</td>\n",
       "      <td>-1.214289</td>\n",
       "      <td>-0.457822</td>\n",
       "      <td>-1.271806</td>\n",
       "      <td>-1.265777</td>\n",
       "    </tr>\n",
       "  </tbody>\n",
       "</table>\n",
       "</div>"
      ],
      "text/plain": [
       "        sex  Diameter    Length    height  Whole weight  Shell weight  \\\n",
       "0  0.816497  0.486278  0.465099  0.000000      0.472072      0.196209   \n",
       "1  0.816497 -1.082361 -0.971237 -0.707107     -1.102411     -1.547874   \n",
       "2 -1.224745  1.349030  1.491054  1.414214      1.361641      1.504271   \n",
       "3  0.816497  0.486278  0.259908  0.707107      0.482987      0.305215   \n",
       "4 -1.224745 -1.239225 -1.244825 -1.414214     -1.214289     -0.457822   \n",
       "\n",
       "   shucked weight  Viscera weight  \n",
       "0        0.688169        0.310038  \n",
       "1       -1.126622       -1.035169  \n",
       "2        1.152755        1.347770  \n",
       "3        0.557504        0.643137  \n",
       "4       -1.271806       -1.265777  "
      ]
     },
     "execution_count": 373,
     "metadata": {},
     "output_type": "execute_result"
    }
   ],
   "source": [
    "from sklearn.preprocessing import scale\n",
    "x_scale=pd.DataFrame(scale(X),columns=X.columns)\n",
    "x_scale.head()"
   ]
  },
  {
   "cell_type": "markdown",
   "id": "0259e414",
   "metadata": {},
   "source": [
    "# Testing and training the dataset"
   ]
  },
  {
   "cell_type": "code",
   "execution_count": 374,
   "id": "82a1f594",
   "metadata": {},
   "outputs": [],
   "source": [
    "from sklearn.model_selection import train_test_split\n",
    "Xtrain, Xtest, ytrain, ytest = train_test_split(x_scale, y, test_size=0.2, random_state=0)"
   ]
  },
  {
   "cell_type": "code",
   "execution_count": 375,
   "id": "e7acba05",
   "metadata": {},
   "outputs": [
    {
     "data": {
      "text/plain": [
       "(4,)"
      ]
     },
     "execution_count": 375,
     "metadata": {},
     "output_type": "execute_result"
    }
   ],
   "source": [
    "Xtrain.shape\n",
    "ytrain.shape"
   ]
  },
  {
   "cell_type": "code",
   "execution_count": 376,
   "id": "c4f11011",
   "metadata": {},
   "outputs": [
    {
     "data": {
      "text/plain": [
       "(1, 8)"
      ]
     },
     "execution_count": 376,
     "metadata": {},
     "output_type": "execute_result"
    }
   ],
   "source": [
    "Xtest.shape"
   ]
  },
  {
   "cell_type": "code",
   "execution_count": 377,
   "id": "11a8b9c4",
   "metadata": {},
   "outputs": [
    {
     "data": {
      "text/plain": [
       "(1,)"
      ]
     },
     "execution_count": 377,
     "metadata": {},
     "output_type": "execute_result"
    }
   ],
   "source": [
    "ytest.shape"
   ]
  },
  {
   "cell_type": "code",
   "execution_count": 378,
   "id": "393ddbe2",
   "metadata": {
    "scrolled": false
   },
   "outputs": [
    {
     "data": {
      "text/plain": [
       "LinearRegression()"
      ]
     },
     "execution_count": 378,
     "metadata": {},
     "output_type": "execute_result"
    }
   ],
   "source": [
    "from sklearn.linear_model import LinearRegression\n",
    "model=LinearRegression()\n",
    "\n",
    "model.fit(Xtrain,ytrain)\n"
   ]
  },
  {
   "cell_type": "code",
   "execution_count": 379,
   "id": "c0413882",
   "metadata": {},
   "outputs": [
    {
     "data": {
      "text/plain": [
       "array([10.91986727])"
      ]
     },
     "execution_count": 379,
     "metadata": {},
     "output_type": "execute_result"
    }
   ],
   "source": [
    "pred=model.predict(Xtest)\n",
    "pred"
   ]
  },
  {
   "cell_type": "code",
   "execution_count": 380,
   "id": "92377216",
   "metadata": {},
   "outputs": [
    {
     "data": {
      "text/plain": [
       "2    9\n",
       "Name: Rings, dtype: int64"
      ]
     },
     "execution_count": 380,
     "metadata": {},
     "output_type": "execute_result"
    }
   ],
   "source": [
    "ytest"
   ]
  },
  {
   "cell_type": "code",
   "execution_count": 381,
   "id": "8bdc57d6",
   "metadata": {},
   "outputs": [],
   "source": [
    "Age=df.Rings+1.5"
   ]
  },
  {
   "cell_type": "code",
   "execution_count": 382,
   "id": "89ec6b65",
   "metadata": {},
   "outputs": [],
   "source": [
    "df['Age']=Age"
   ]
  },
  {
   "cell_type": "code",
   "execution_count": 383,
   "id": "8a64ae00",
   "metadata": {
    "scrolled": false
   },
   "outputs": [
    {
     "data": {
      "text/html": [
       "<div>\n",
       "<style scoped>\n",
       "    .dataframe tbody tr th:only-of-type {\n",
       "        vertical-align: middle;\n",
       "    }\n",
       "\n",
       "    .dataframe tbody tr th {\n",
       "        vertical-align: top;\n",
       "    }\n",
       "\n",
       "    .dataframe thead th {\n",
       "        text-align: right;\n",
       "    }\n",
       "</style>\n",
       "<table border=\"1\" class=\"dataframe\">\n",
       "  <thead>\n",
       "    <tr style=\"text-align: right;\">\n",
       "      <th></th>\n",
       "      <th>sex</th>\n",
       "      <th>Diameter</th>\n",
       "      <th>Length</th>\n",
       "      <th>height</th>\n",
       "      <th>Whole weight</th>\n",
       "      <th>Shell weight</th>\n",
       "      <th>shucked weight</th>\n",
       "      <th>Viscera weight</th>\n",
       "      <th>Rings</th>\n",
       "      <th>Age</th>\n",
       "    </tr>\n",
       "  </thead>\n",
       "  <tbody>\n",
       "    <tr>\n",
       "      <th>0</th>\n",
       "      <td>1</td>\n",
       "      <td>0.365</td>\n",
       "      <td>0.455</td>\n",
       "      <td>2</td>\n",
       "      <td>0.5140</td>\n",
       "      <td>0.150</td>\n",
       "      <td>0.2245</td>\n",
       "      <td>0.1010</td>\n",
       "      <td>15</td>\n",
       "      <td>16.5</td>\n",
       "    </tr>\n",
       "    <tr>\n",
       "      <th>1</th>\n",
       "      <td>1</td>\n",
       "      <td>0.265</td>\n",
       "      <td>0.350</td>\n",
       "      <td>1</td>\n",
       "      <td>0.2255</td>\n",
       "      <td>0.070</td>\n",
       "      <td>0.0995</td>\n",
       "      <td>0.0485</td>\n",
       "      <td>7</td>\n",
       "      <td>8.5</td>\n",
       "    </tr>\n",
       "    <tr>\n",
       "      <th>2</th>\n",
       "      <td>0</td>\n",
       "      <td>0.420</td>\n",
       "      <td>0.530</td>\n",
       "      <td>4</td>\n",
       "      <td>0.6770</td>\n",
       "      <td>0.210</td>\n",
       "      <td>0.2565</td>\n",
       "      <td>0.1415</td>\n",
       "      <td>9</td>\n",
       "      <td>10.5</td>\n",
       "    </tr>\n",
       "    <tr>\n",
       "      <th>3</th>\n",
       "      <td>1</td>\n",
       "      <td>0.365</td>\n",
       "      <td>0.440</td>\n",
       "      <td>3</td>\n",
       "      <td>0.5160</td>\n",
       "      <td>0.155</td>\n",
       "      <td>0.2155</td>\n",
       "      <td>0.1140</td>\n",
       "      <td>10</td>\n",
       "      <td>11.5</td>\n",
       "    </tr>\n",
       "    <tr>\n",
       "      <th>4</th>\n",
       "      <td>0</td>\n",
       "      <td>0.255</td>\n",
       "      <td>0.330</td>\n",
       "      <td>0</td>\n",
       "      <td>0.2050</td>\n",
       "      <td>0.120</td>\n",
       "      <td>0.0895</td>\n",
       "      <td>0.0395</td>\n",
       "      <td>7</td>\n",
       "      <td>8.5</td>\n",
       "    </tr>\n",
       "  </tbody>\n",
       "</table>\n",
       "</div>"
      ],
      "text/plain": [
       "   sex  Diameter  Length  height  Whole weight  Shell weight  shucked weight  \\\n",
       "0    1     0.365   0.455       2        0.5140         0.150          0.2245   \n",
       "1    1     0.265   0.350       1        0.2255         0.070          0.0995   \n",
       "2    0     0.420   0.530       4        0.6770         0.210          0.2565   \n",
       "3    1     0.365   0.440       3        0.5160         0.155          0.2155   \n",
       "4    0     0.255   0.330       0        0.2050         0.120          0.0895   \n",
       "\n",
       "   Viscera weight  Rings   Age  \n",
       "0          0.1010     15  16.5  \n",
       "1          0.0485      7   8.5  \n",
       "2          0.1415      9  10.5  \n",
       "3          0.1140     10  11.5  \n",
       "4          0.0395      7   8.5  "
      ]
     },
     "execution_count": 383,
     "metadata": {},
     "output_type": "execute_result"
    }
   ],
   "source": [
    "df.head()"
   ]
  },
  {
   "cell_type": "code",
   "execution_count": 384,
   "id": "a475d2a6",
   "metadata": {},
   "outputs": [],
   "source": [
    "from sklearn.preprocessing import LabelEncoder"
   ]
  },
  {
   "cell_type": "code",
   "execution_count": 385,
   "id": "f6feb155",
   "metadata": {
    "scrolled": false
   },
   "outputs": [
    {
     "data": {
      "text/html": [
       "<div>\n",
       "<style scoped>\n",
       "    .dataframe tbody tr th:only-of-type {\n",
       "        vertical-align: middle;\n",
       "    }\n",
       "\n",
       "    .dataframe tbody tr th {\n",
       "        vertical-align: top;\n",
       "    }\n",
       "\n",
       "    .dataframe thead th {\n",
       "        text-align: right;\n",
       "    }\n",
       "</style>\n",
       "<table border=\"1\" class=\"dataframe\">\n",
       "  <thead>\n",
       "    <tr style=\"text-align: right;\">\n",
       "      <th></th>\n",
       "      <th>sex</th>\n",
       "      <th>Diameter</th>\n",
       "      <th>Length</th>\n",
       "      <th>height</th>\n",
       "      <th>Whole weight</th>\n",
       "      <th>Shell weight</th>\n",
       "      <th>shucked weight</th>\n",
       "      <th>Viscera weight</th>\n",
       "      <th>Rings</th>\n",
       "      <th>Age</th>\n",
       "    </tr>\n",
       "  </thead>\n",
       "  <tbody>\n",
       "    <tr>\n",
       "      <th>0</th>\n",
       "      <td>1</td>\n",
       "      <td>0.365</td>\n",
       "      <td>0.455</td>\n",
       "      <td>2</td>\n",
       "      <td>0.5140</td>\n",
       "      <td>0.150</td>\n",
       "      <td>0.2245</td>\n",
       "      <td>0.1010</td>\n",
       "      <td>15</td>\n",
       "      <td>16.5</td>\n",
       "    </tr>\n",
       "    <tr>\n",
       "      <th>1</th>\n",
       "      <td>1</td>\n",
       "      <td>0.265</td>\n",
       "      <td>0.350</td>\n",
       "      <td>1</td>\n",
       "      <td>0.2255</td>\n",
       "      <td>0.070</td>\n",
       "      <td>0.0995</td>\n",
       "      <td>0.0485</td>\n",
       "      <td>7</td>\n",
       "      <td>8.5</td>\n",
       "    </tr>\n",
       "    <tr>\n",
       "      <th>2</th>\n",
       "      <td>0</td>\n",
       "      <td>0.420</td>\n",
       "      <td>0.530</td>\n",
       "      <td>4</td>\n",
       "      <td>0.6770</td>\n",
       "      <td>0.210</td>\n",
       "      <td>0.2565</td>\n",
       "      <td>0.1415</td>\n",
       "      <td>9</td>\n",
       "      <td>10.5</td>\n",
       "    </tr>\n",
       "    <tr>\n",
       "      <th>3</th>\n",
       "      <td>1</td>\n",
       "      <td>0.365</td>\n",
       "      <td>0.440</td>\n",
       "      <td>3</td>\n",
       "      <td>0.5160</td>\n",
       "      <td>0.155</td>\n",
       "      <td>0.2155</td>\n",
       "      <td>0.1140</td>\n",
       "      <td>10</td>\n",
       "      <td>11.5</td>\n",
       "    </tr>\n",
       "    <tr>\n",
       "      <th>4</th>\n",
       "      <td>0</td>\n",
       "      <td>0.255</td>\n",
       "      <td>0.330</td>\n",
       "      <td>0</td>\n",
       "      <td>0.2050</td>\n",
       "      <td>0.120</td>\n",
       "      <td>0.0895</td>\n",
       "      <td>0.0395</td>\n",
       "      <td>7</td>\n",
       "      <td>8.5</td>\n",
       "    </tr>\n",
       "  </tbody>\n",
       "</table>\n",
       "</div>"
      ],
      "text/plain": [
       "   sex  Diameter  Length  height  Whole weight  Shell weight  shucked weight  \\\n",
       "0    1     0.365   0.455       2        0.5140         0.150          0.2245   \n",
       "1    1     0.265   0.350       1        0.2255         0.070          0.0995   \n",
       "2    0     0.420   0.530       4        0.6770         0.210          0.2565   \n",
       "3    1     0.365   0.440       3        0.5160         0.155          0.2155   \n",
       "4    0     0.255   0.330       0        0.2050         0.120          0.0895   \n",
       "\n",
       "   Viscera weight  Rings   Age  \n",
       "0          0.1010     15  16.5  \n",
       "1          0.0485      7   8.5  \n",
       "2          0.1415      9  10.5  \n",
       "3          0.1140     10  11.5  \n",
       "4          0.0395      7   8.5  "
      ]
     },
     "execution_count": 385,
     "metadata": {},
     "output_type": "execute_result"
    }
   ],
   "source": [
    "le=LabelEncoder()\n",
    "df.sex=le.fit_transform(df.sex)\n",
    "df.head()"
   ]
  },
  {
   "cell_type": "code",
   "execution_count": 390,
   "id": "d19deef7",
   "metadata": {},
   "outputs": [
    {
     "data": {
      "text/plain": [
       "0    16.5\n",
       "1     8.5\n",
       "2    10.5\n",
       "3    11.5\n",
       "4     8.5\n",
       "Name: Age, dtype: float64"
      ]
     },
     "execution_count": 390,
     "metadata": {},
     "output_type": "execute_result"
    }
   ],
   "source": [
    "y = df[\"Age\"]\n",
    "X = df.drop(columns=['Age'],axis=1)\n",
    "y\n"
   ]
  },
  {
   "cell_type": "code",
   "execution_count": 391,
   "id": "727b6920",
   "metadata": {},
   "outputs": [
    {
     "data": {
      "text/html": [
       "<div>\n",
       "<style scoped>\n",
       "    .dataframe tbody tr th:only-of-type {\n",
       "        vertical-align: middle;\n",
       "    }\n",
       "\n",
       "    .dataframe tbody tr th {\n",
       "        vertical-align: top;\n",
       "    }\n",
       "\n",
       "    .dataframe thead th {\n",
       "        text-align: right;\n",
       "    }\n",
       "</style>\n",
       "<table border=\"1\" class=\"dataframe\">\n",
       "  <thead>\n",
       "    <tr style=\"text-align: right;\">\n",
       "      <th></th>\n",
       "      <th>Actual age</th>\n",
       "      <th>Predicted Age</th>\n",
       "    </tr>\n",
       "  </thead>\n",
       "  <tbody>\n",
       "    <tr>\n",
       "      <th>2</th>\n",
       "      <td>9</td>\n",
       "      <td>10.919867</td>\n",
       "    </tr>\n",
       "  </tbody>\n",
       "</table>\n",
       "</div>"
      ],
      "text/plain": [
       "   Actual age  Predicted Age\n",
       "2           9      10.919867"
      ]
     },
     "execution_count": 391,
     "metadata": {},
     "output_type": "execute_result"
    }
   ],
   "source": [
    "Age=pd.DataFrame({'Actual age':ytest,'Predicted Age':pred})\n",
    "Age"
   ]
  },
  {
   "cell_type": "code",
   "execution_count": 392,
   "id": "2cc6349d",
   "metadata": {},
   "outputs": [
    {
     "name": "stdout",
     "output_type": "stream",
     "text": [
      "MAE= 1.9198672665531245\n"
     ]
    }
   ],
   "source": [
    " from sklearn.metrics import mean_absolute_error,mean_absolute_percentage_error,mean_squared_error,r2_score\n",
    "print(\"MAE=\",mean_absolute_error(ytest,pred))"
   ]
  },
  {
   "cell_type": "code",
   "execution_count": 398,
   "id": "04212692",
   "metadata": {
    "scrolled": true
   },
   "outputs": [
    {
     "data": {
      "text/plain": [
       "('MAPE=', 0.21331858517256938)"
      ]
     },
     "execution_count": 398,
     "metadata": {},
     "output_type": "execute_result"
    }
   ],
   "source": [
    "(\"MAPE=\",mean_absolute_percentage_error(ytest,pred))"
   ]
  },
  {
   "cell_type": "code",
   "execution_count": 402,
   "id": "4c796614",
   "metadata": {},
   "outputs": [
    {
     "data": {
      "text/plain": [
       "('RMSE=', 1.9198672665531245)"
      ]
     },
     "execution_count": 402,
     "metadata": {},
     "output_type": "execute_result"
    }
   ],
   "source": [
    "import numpy as np\n",
    "(\"RMSE=\",np.sqrt(mean_squared_error(ytest,pred)))"
   ]
  }
 ],
 "metadata": {
  "kernelspec": {
   "display_name": "Python 3 (ipykernel)",
   "language": "python",
   "name": "python3"
  },
  "language_info": {
   "codemirror_mode": {
    "name": "ipython",
    "version": 3
   },
   "file_extension": ".py",
   "mimetype": "text/x-python",
   "name": "python",
   "nbconvert_exporter": "python",
   "pygments_lexer": "ipython3",
   "version": "3.9.13"
  }
 },
 "nbformat": 4,
 "nbformat_minor": 5
}
