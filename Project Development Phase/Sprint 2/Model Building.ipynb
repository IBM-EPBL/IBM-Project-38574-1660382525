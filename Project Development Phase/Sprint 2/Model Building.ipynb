{
  "nbformat": 4,
  "nbformat_minor": 0,
  "metadata": {
    "colab": {
      "provenance": []
    },
    "kernelspec": {
      "name": "python3",
      "display_name": "Python 3"
    },
    "language_info": {
      "name": "python"
    }
  },
  "cells": [
    {
      "cell_type": "markdown",
      "source": [
        "# **Import Required Libraries**"
      ],
      "metadata": {
        "id": "1q0CcA_uLVF6"
      }
    },
    {
      "cell_type": "code",
      "execution_count": 45,
      "metadata": {
        "id": "IhTm2xEtKYKt"
      },
      "outputs": [],
      "source": [
        "import matplotlib.pyplot as plt\n",
        "import pandas as pd\n",
        "import seaborn as sns\n",
        "import numpy as np\n",
        "import pickle\n",
        "from sklearn.tree import DecisionTreeClassifier\n",
        "from sklearn.ensemble import RandomForestClassifier, GradientBoostingClassifier\n",
        "from sklearn.neighbors import KNeighborsClassifier\n",
        "from sklearn.preprocessing import StandardScaler\n",
        "from sklearn.model_selection import train_test_split, cross_val_score\n",
        "from sklearn.metrics import confusion_matrix, classification_report, f1_score"
      ]
    },
    {
      "cell_type": "markdown",
      "source": [
        "#**Read the dataset**"
      ],
      "metadata": {
        "id": "ZxBMT7jWLfq7"
      }
    },
    {
      "cell_type": "code",
      "source": [
        "df = pd.read_csv('Loan_Prediction.csv')\n",
        "df.head()"
      ],
      "metadata": {
        "colab": {
          "base_uri": "https://localhost:8080/",
          "height": 288
        },
        "id": "uPAojHFhLkDo",
        "outputId": "23bbfe66-52b2-4068-a915-4dffc8661f02"
      },
      "execution_count": 46,
      "outputs": [
        {
          "output_type": "execute_result",
          "data": {
            "text/plain": [
              "    Loan_ID Gender Married Dependents     Education Self_Employed  \\\n",
              "0  LP001002   Male      No          0      Graduate            No   \n",
              "1  LP001003   Male     Yes          1      Graduate            No   \n",
              "2  LP001005   Male     Yes          0      Graduate           Yes   \n",
              "3  LP001006   Male     Yes          0  Not Graduate            No   \n",
              "4  LP001008   Male      No          0      Graduate            No   \n",
              "\n",
              "   ApplicantIncome  CoapplicantIncome  LoanAmount  Loan_Amount_Term  \\\n",
              "0             5849                0.0         NaN             360.0   \n",
              "1             4583             1508.0       128.0             360.0   \n",
              "2             3000                0.0        66.0             360.0   \n",
              "3             2583             2358.0       120.0             360.0   \n",
              "4             6000                0.0       141.0             360.0   \n",
              "\n",
              "   Credit_History Property_Area Loan_Status  \n",
              "0             1.0         Urban           Y  \n",
              "1             1.0         Rural           N  \n",
              "2             1.0         Urban           Y  \n",
              "3             1.0         Urban           Y  \n",
              "4             1.0         Urban           Y  "
            ],
            "text/html": [
              "\n",
              "  <div id=\"df-1453dc5b-c5c0-4bc0-ac34-d85371a0930a\">\n",
              "    <div class=\"colab-df-container\">\n",
              "      <div>\n",
              "<style scoped>\n",
              "    .dataframe tbody tr th:only-of-type {\n",
              "        vertical-align: middle;\n",
              "    }\n",
              "\n",
              "    .dataframe tbody tr th {\n",
              "        vertical-align: top;\n",
              "    }\n",
              "\n",
              "    .dataframe thead th {\n",
              "        text-align: right;\n",
              "    }\n",
              "</style>\n",
              "<table border=\"1\" class=\"dataframe\">\n",
              "  <thead>\n",
              "    <tr style=\"text-align: right;\">\n",
              "      <th></th>\n",
              "      <th>Loan_ID</th>\n",
              "      <th>Gender</th>\n",
              "      <th>Married</th>\n",
              "      <th>Dependents</th>\n",
              "      <th>Education</th>\n",
              "      <th>Self_Employed</th>\n",
              "      <th>ApplicantIncome</th>\n",
              "      <th>CoapplicantIncome</th>\n",
              "      <th>LoanAmount</th>\n",
              "      <th>Loan_Amount_Term</th>\n",
              "      <th>Credit_History</th>\n",
              "      <th>Property_Area</th>\n",
              "      <th>Loan_Status</th>\n",
              "    </tr>\n",
              "  </thead>\n",
              "  <tbody>\n",
              "    <tr>\n",
              "      <th>0</th>\n",
              "      <td>LP001002</td>\n",
              "      <td>Male</td>\n",
              "      <td>No</td>\n",
              "      <td>0</td>\n",
              "      <td>Graduate</td>\n",
              "      <td>No</td>\n",
              "      <td>5849</td>\n",
              "      <td>0.0</td>\n",
              "      <td>NaN</td>\n",
              "      <td>360.0</td>\n",
              "      <td>1.0</td>\n",
              "      <td>Urban</td>\n",
              "      <td>Y</td>\n",
              "    </tr>\n",
              "    <tr>\n",
              "      <th>1</th>\n",
              "      <td>LP001003</td>\n",
              "      <td>Male</td>\n",
              "      <td>Yes</td>\n",
              "      <td>1</td>\n",
              "      <td>Graduate</td>\n",
              "      <td>No</td>\n",
              "      <td>4583</td>\n",
              "      <td>1508.0</td>\n",
              "      <td>128.0</td>\n",
              "      <td>360.0</td>\n",
              "      <td>1.0</td>\n",
              "      <td>Rural</td>\n",
              "      <td>N</td>\n",
              "    </tr>\n",
              "    <tr>\n",
              "      <th>2</th>\n",
              "      <td>LP001005</td>\n",
              "      <td>Male</td>\n",
              "      <td>Yes</td>\n",
              "      <td>0</td>\n",
              "      <td>Graduate</td>\n",
              "      <td>Yes</td>\n",
              "      <td>3000</td>\n",
              "      <td>0.0</td>\n",
              "      <td>66.0</td>\n",
              "      <td>360.0</td>\n",
              "      <td>1.0</td>\n",
              "      <td>Urban</td>\n",
              "      <td>Y</td>\n",
              "    </tr>\n",
              "    <tr>\n",
              "      <th>3</th>\n",
              "      <td>LP001006</td>\n",
              "      <td>Male</td>\n",
              "      <td>Yes</td>\n",
              "      <td>0</td>\n",
              "      <td>Not Graduate</td>\n",
              "      <td>No</td>\n",
              "      <td>2583</td>\n",
              "      <td>2358.0</td>\n",
              "      <td>120.0</td>\n",
              "      <td>360.0</td>\n",
              "      <td>1.0</td>\n",
              "      <td>Urban</td>\n",
              "      <td>Y</td>\n",
              "    </tr>\n",
              "    <tr>\n",
              "      <th>4</th>\n",
              "      <td>LP001008</td>\n",
              "      <td>Male</td>\n",
              "      <td>No</td>\n",
              "      <td>0</td>\n",
              "      <td>Graduate</td>\n",
              "      <td>No</td>\n",
              "      <td>6000</td>\n",
              "      <td>0.0</td>\n",
              "      <td>141.0</td>\n",
              "      <td>360.0</td>\n",
              "      <td>1.0</td>\n",
              "      <td>Urban</td>\n",
              "      <td>Y</td>\n",
              "    </tr>\n",
              "  </tbody>\n",
              "</table>\n",
              "</div>\n",
              "      <button class=\"colab-df-convert\" onclick=\"convertToInteractive('df-1453dc5b-c5c0-4bc0-ac34-d85371a0930a')\"\n",
              "              title=\"Convert this dataframe to an interactive table.\"\n",
              "              style=\"display:none;\">\n",
              "        \n",
              "  <svg xmlns=\"http://www.w3.org/2000/svg\" height=\"24px\"viewBox=\"0 0 24 24\"\n",
              "       width=\"24px\">\n",
              "    <path d=\"M0 0h24v24H0V0z\" fill=\"none\"/>\n",
              "    <path d=\"M18.56 5.44l.94 2.06.94-2.06 2.06-.94-2.06-.94-.94-2.06-.94 2.06-2.06.94zm-11 1L8.5 8.5l.94-2.06 2.06-.94-2.06-.94L8.5 2.5l-.94 2.06-2.06.94zm10 10l.94 2.06.94-2.06 2.06-.94-2.06-.94-.94-2.06-.94 2.06-2.06.94z\"/><path d=\"M17.41 7.96l-1.37-1.37c-.4-.4-.92-.59-1.43-.59-.52 0-1.04.2-1.43.59L10.3 9.45l-7.72 7.72c-.78.78-.78 2.05 0 2.83L4 21.41c.39.39.9.59 1.41.59.51 0 1.02-.2 1.41-.59l7.78-7.78 2.81-2.81c.8-.78.8-2.07 0-2.86zM5.41 20L4 18.59l7.72-7.72 1.47 1.35L5.41 20z\"/>\n",
              "  </svg>\n",
              "      </button>\n",
              "      \n",
              "  <style>\n",
              "    .colab-df-container {\n",
              "      display:flex;\n",
              "      flex-wrap:wrap;\n",
              "      gap: 12px;\n",
              "    }\n",
              "\n",
              "    .colab-df-convert {\n",
              "      background-color: #E8F0FE;\n",
              "      border: none;\n",
              "      border-radius: 50%;\n",
              "      cursor: pointer;\n",
              "      display: none;\n",
              "      fill: #1967D2;\n",
              "      height: 32px;\n",
              "      padding: 0 0 0 0;\n",
              "      width: 32px;\n",
              "    }\n",
              "\n",
              "    .colab-df-convert:hover {\n",
              "      background-color: #E2EBFA;\n",
              "      box-shadow: 0px 1px 2px rgba(60, 64, 67, 0.3), 0px 1px 3px 1px rgba(60, 64, 67, 0.15);\n",
              "      fill: #174EA6;\n",
              "    }\n",
              "\n",
              "    [theme=dark] .colab-df-convert {\n",
              "      background-color: #3B4455;\n",
              "      fill: #D2E3FC;\n",
              "    }\n",
              "\n",
              "    [theme=dark] .colab-df-convert:hover {\n",
              "      background-color: #434B5C;\n",
              "      box-shadow: 0px 1px 3px 1px rgba(0, 0, 0, 0.15);\n",
              "      filter: drop-shadow(0px 1px 2px rgba(0, 0, 0, 0.3));\n",
              "      fill: #FFFFFF;\n",
              "    }\n",
              "  </style>\n",
              "\n",
              "      <script>\n",
              "        const buttonEl =\n",
              "          document.querySelector('#df-1453dc5b-c5c0-4bc0-ac34-d85371a0930a button.colab-df-convert');\n",
              "        buttonEl.style.display =\n",
              "          google.colab.kernel.accessAllowed ? 'block' : 'none';\n",
              "\n",
              "        async function convertToInteractive(key) {\n",
              "          const element = document.querySelector('#df-1453dc5b-c5c0-4bc0-ac34-d85371a0930a');\n",
              "          const dataTable =\n",
              "            await google.colab.kernel.invokeFunction('convertToInteractive',\n",
              "                                                     [key], {});\n",
              "          if (!dataTable) return;\n",
              "\n",
              "          const docLinkHtml = 'Like what you see? Visit the ' +\n",
              "            '<a target=\"_blank\" href=https://colab.research.google.com/notebooks/data_table.ipynb>data table notebook</a>'\n",
              "            + ' to learn more about interactive tables.';\n",
              "          element.innerHTML = '';\n",
              "          dataTable['output_type'] = 'display_data';\n",
              "          await google.colab.output.renderOutput(dataTable, element);\n",
              "          const docLink = document.createElement('div');\n",
              "          docLink.innerHTML = docLinkHtml;\n",
              "          element.appendChild(docLink);\n",
              "        }\n",
              "      </script>\n",
              "    </div>\n",
              "  </div>\n",
              "  "
            ]
          },
          "metadata": {},
          "execution_count": 46
        }
      ]
    },
    {
      "cell_type": "markdown",
      "source": [
        "# **Data Preprocessing**"
      ],
      "metadata": {
        "id": "hyfp3EDKMXlL"
      }
    },
    {
      "cell_type": "code",
      "source": [
        "df.isnull().sum()"
      ],
      "metadata": {
        "colab": {
          "base_uri": "https://localhost:8080/"
        },
        "id": "4EGwcYD5MhAY",
        "outputId": "9f037559-e033-4850-9800-3742b18cad8a"
      },
      "execution_count": 47,
      "outputs": [
        {
          "output_type": "execute_result",
          "data": {
            "text/plain": [
              "Loan_ID               0\n",
              "Gender               13\n",
              "Married               3\n",
              "Dependents           15\n",
              "Education             0\n",
              "Self_Employed        32\n",
              "ApplicantIncome       0\n",
              "CoapplicantIncome     0\n",
              "LoanAmount           22\n",
              "Loan_Amount_Term     14\n",
              "Credit_History       50\n",
              "Property_Area         0\n",
              "Loan_Status           0\n",
              "dtype: int64"
            ]
          },
          "metadata": {},
          "execution_count": 47
        }
      ]
    },
    {
      "cell_type": "code",
      "source": [
        "from sklearn.preprocessing import LabelEncoder\n",
        "le=LabelEncoder()\n",
        "df.Gender = le.fit_transform(df.Gender)\n",
        "df.Married = le.fit_transform(df.Married)\n",
        "df.Education = le.fit_transform(df.Education)\n",
        "df.Self_Employed = le.fit_transform(df.Self_Employed)\n",
        "df.Property_Area = le.fit_transform(df.Property_Area)\n",
        "df.Loan_Status = le.fit_transform(df.Loan_Status)"
      ],
      "metadata": {
        "id": "QeVmdL1IXPQA"
      },
      "execution_count": 48,
      "outputs": []
    },
    {
      "cell_type": "code",
      "source": [
        "df['Gender'] = df['Gender'].fillna(df['Gender'].mode()[0])\n",
        "df['Married'] = df['Married'].fillna(df['Married'].mode()[0])\n",
        "df['Dependents'] = df['Dependents'].str.replace('+','')\n",
        "df['Dependents'] = df['Dependents'].fillna(df['Dependents'].mode()[0])\n",
        "df['Self_Employed'] = df['Self_Employed'].fillna(df['Self_Employed'].mode()[0])\n",
        "df['LoanAmount'] = df['LoanAmount'].fillna(df['LoanAmount'].mode()[0])\n",
        "df['Loan_Amount_Term'] = df['Loan_Amount_Term'].fillna(df['Loan_Amount_Term'].mode()[0])\n",
        "df['Credit_History'] = df['Credit_History'].fillna(df['Credit_History'].mode()[0])"
      ],
      "metadata": {
        "colab": {
          "base_uri": "https://localhost:8080/"
        },
        "id": "AKrwLw-LMtI4",
        "outputId": "b453619d-3968-4cc8-810e-441dc256de7c"
      },
      "execution_count": 49,
      "outputs": [
        {
          "output_type": "stream",
          "name": "stderr",
          "text": [
            "/usr/local/lib/python3.7/dist-packages/ipykernel_launcher.py:3: FutureWarning: The default value of regex will change from True to False in a future version. In addition, single character regular expressions will *not* be treated as literal strings when regex=True.\n",
            "  This is separate from the ipykernel package so we can avoid doing imports until\n"
          ]
        }
      ]
    },
    {
      "cell_type": "code",
      "source": [
        "df['Gender'] = df['Gender'].astype('int64')\n",
        "df['Married'] = df['Married'].astype('int64')\n",
        "df['Dependents'] = df['Dependents'].astype('int64')\n",
        "df['Self_Employed'] = df['Self_Employed'].astype('int64')\n",
        "df['CoapplicantIncome'] = df['CoapplicantIncome'].astype('int64')\n",
        "df['LoanAmount'] = df['LoanAmount'].astype('int64')\n",
        "df['Loan_Amount_Term'] = df['Loan_Amount_Term'].astype('int64')\n",
        "df['Credit_History'] = df['Credit_History'].astype('int64')"
      ],
      "metadata": {
        "id": "ZmMRqTijNvjA"
      },
      "execution_count": 50,
      "outputs": []
    },
    {
      "cell_type": "code",
      "source": [
        "from imblearn.combine import SMOTETomek"
      ],
      "metadata": {
        "id": "gNnBmJo0O5aa"
      },
      "execution_count": 51,
      "outputs": []
    },
    {
      "cell_type": "code",
      "source": [
        "smote = SMOTETomek(0.90)"
      ],
      "metadata": {
        "colab": {
          "base_uri": "https://localhost:8080/"
        },
        "id": "MPesYTa-PEmo",
        "outputId": "2d5a7197-828b-4b3f-d9fd-51eadfcac138"
      },
      "execution_count": 52,
      "outputs": [
        {
          "output_type": "stream",
          "name": "stderr",
          "text": [
            "/usr/local/lib/python3.7/dist-packages/imblearn/utils/_validation.py:591: FutureWarning: Pass sampling_strategy=0.9 as keyword args. From version 0.9 passing these as positional arguments will result in an error\n",
            "  FutureWarning,\n"
          ]
        }
      ]
    },
    {
      "cell_type": "code",
      "source": [
        "y = df['Loan_Status']\n",
        "x = df.drop(columns=['Loan_Status', 'Loan_ID'],axis=1)"
      ],
      "metadata": {
        "id": "uY7EsycaPNSi"
      },
      "execution_count": 53,
      "outputs": []
    },
    {
      "cell_type": "code",
      "source": [
        "x_bal,y_bal = smote.fit_resample(x,y)"
      ],
      "metadata": {
        "id": "55VhO-VIPjUY"
      },
      "execution_count": 54,
      "outputs": []
    },
    {
      "cell_type": "code",
      "source": [
        "print(y.value_counts())\n",
        "print(y_bal.value_counts())"
      ],
      "metadata": {
        "colab": {
          "base_uri": "https://localhost:8080/"
        },
        "id": "UlsP1LqGXjGI",
        "outputId": "93f67265-9a4a-4118-ae5f-4aa42a214da9"
      },
      "execution_count": 55,
      "outputs": [
        {
          "output_type": "stream",
          "name": "stdout",
          "text": [
            "1    422\n",
            "0    192\n",
            "Name: Loan_Status, dtype: int64\n",
            "1    359\n",
            "0    316\n",
            "Name: Loan_Status, dtype: int64\n"
          ]
        }
      ]
    },
    {
      "cell_type": "code",
      "source": [
        "sc = StandardScaler()\n",
        "x_bal = sc.fit_transform(x_bal)"
      ],
      "metadata": {
        "id": "UTD_mqjyYLVI"
      },
      "execution_count": 56,
      "outputs": []
    },
    {
      "cell_type": "code",
      "source": [
        "x_bal = pd.DataFrame(x_bal)"
      ],
      "metadata": {
        "id": "SlHCPz-EYqW3"
      },
      "execution_count": 57,
      "outputs": []
    },
    {
      "cell_type": "code",
      "source": [
        "x_train, x_test , y_train, y_test = train_test_split(x_bal, y_bal, test_size = 0.33, random_state=42)"
      ],
      "metadata": {
        "id": "DzjhggYwZDmn"
      },
      "execution_count": 58,
      "outputs": []
    },
    {
      "cell_type": "code",
      "source": [
        "x_train"
      ],
      "metadata": {
        "colab": {
          "base_uri": "https://localhost:8080/",
          "height": 424
        },
        "id": "eVMIVhOFZr5A",
        "outputId": "33f9c5c6-e5ed-4c4e-dc42-5bd0720fa3d5"
      },
      "execution_count": 59,
      "outputs": [
        {
          "output_type": "execute_result",
          "data": {
            "text/plain": [
              "           0         1         2         3        4         5         6   \\\n",
              "221  0.502096  0.860367  2.456775 -0.479070 -0.40292  0.005389 -0.505892   \n",
              "516  0.502096 -1.121707 -0.705952 -0.479070 -0.40292  0.217108 -0.505892   \n",
              "660  0.502096 -1.121707 -0.705952 -0.479070 -0.40292 -0.054322  0.022615   \n",
              "527 -1.727607  0.860367 -0.705952 -0.479070 -0.40292 -0.108403 -0.505892   \n",
              "84   0.502096  0.860367 -0.705952 -0.479070 -0.40292 -0.590187  0.607401   \n",
              "..        ...       ...       ...       ...      ...       ...       ...   \n",
              "71   0.502096 -1.121707 -0.705952 -0.479070 -0.40292 -0.486630  0.289856   \n",
              "106 -1.727607 -1.121707 -0.705952 -0.479070 -0.40292 -0.525699  2.317427   \n",
              "270  0.502096  0.860367  1.402533 -0.479070 -0.40292 -0.256145 -0.505892   \n",
              "435  0.502096  0.860367  1.402533  2.087377 -0.40292 -0.516315  0.041794   \n",
              "102  0.502096  0.860367 -0.705952 -0.479070 -0.40292  0.059641  0.167554   \n",
              "\n",
              "           7         8         9         10  \n",
              "221 -0.578847  0.284518  0.577920  1.347127  \n",
              "516 -0.408508  0.284518 -1.730342 -1.192847  \n",
              "660  0.394520  0.284518 -1.730342  0.077140  \n",
              "527 -0.578847  0.284518  0.577920 -1.192847  \n",
              "84  -0.128665  0.284518  0.577920  0.077140  \n",
              "..        ...       ...       ...       ...  \n",
              "71  -0.067829  0.284518  0.577920  0.077140  \n",
              "106 -0.055662  0.284518 -1.730342  0.077140  \n",
              "270 -0.262503  0.284518  0.577920  0.077140  \n",
              "435 -1.175035  0.284518  0.577920  0.077140  \n",
              "102  0.406687  0.284518  0.577920 -1.192847  \n",
              "\n",
              "[452 rows x 11 columns]"
            ],
            "text/html": [
              "\n",
              "  <div id=\"df-c49347cb-083a-4b9e-8f2e-b6fbeb1bf9f1\">\n",
              "    <div class=\"colab-df-container\">\n",
              "      <div>\n",
              "<style scoped>\n",
              "    .dataframe tbody tr th:only-of-type {\n",
              "        vertical-align: middle;\n",
              "    }\n",
              "\n",
              "    .dataframe tbody tr th {\n",
              "        vertical-align: top;\n",
              "    }\n",
              "\n",
              "    .dataframe thead th {\n",
              "        text-align: right;\n",
              "    }\n",
              "</style>\n",
              "<table border=\"1\" class=\"dataframe\">\n",
              "  <thead>\n",
              "    <tr style=\"text-align: right;\">\n",
              "      <th></th>\n",
              "      <th>0</th>\n",
              "      <th>1</th>\n",
              "      <th>2</th>\n",
              "      <th>3</th>\n",
              "      <th>4</th>\n",
              "      <th>5</th>\n",
              "      <th>6</th>\n",
              "      <th>7</th>\n",
              "      <th>8</th>\n",
              "      <th>9</th>\n",
              "      <th>10</th>\n",
              "    </tr>\n",
              "  </thead>\n",
              "  <tbody>\n",
              "    <tr>\n",
              "      <th>221</th>\n",
              "      <td>0.502096</td>\n",
              "      <td>0.860367</td>\n",
              "      <td>2.456775</td>\n",
              "      <td>-0.479070</td>\n",
              "      <td>-0.40292</td>\n",
              "      <td>0.005389</td>\n",
              "      <td>-0.505892</td>\n",
              "      <td>-0.578847</td>\n",
              "      <td>0.284518</td>\n",
              "      <td>0.577920</td>\n",
              "      <td>1.347127</td>\n",
              "    </tr>\n",
              "    <tr>\n",
              "      <th>516</th>\n",
              "      <td>0.502096</td>\n",
              "      <td>-1.121707</td>\n",
              "      <td>-0.705952</td>\n",
              "      <td>-0.479070</td>\n",
              "      <td>-0.40292</td>\n",
              "      <td>0.217108</td>\n",
              "      <td>-0.505892</td>\n",
              "      <td>-0.408508</td>\n",
              "      <td>0.284518</td>\n",
              "      <td>-1.730342</td>\n",
              "      <td>-1.192847</td>\n",
              "    </tr>\n",
              "    <tr>\n",
              "      <th>660</th>\n",
              "      <td>0.502096</td>\n",
              "      <td>-1.121707</td>\n",
              "      <td>-0.705952</td>\n",
              "      <td>-0.479070</td>\n",
              "      <td>-0.40292</td>\n",
              "      <td>-0.054322</td>\n",
              "      <td>0.022615</td>\n",
              "      <td>0.394520</td>\n",
              "      <td>0.284518</td>\n",
              "      <td>-1.730342</td>\n",
              "      <td>0.077140</td>\n",
              "    </tr>\n",
              "    <tr>\n",
              "      <th>527</th>\n",
              "      <td>-1.727607</td>\n",
              "      <td>0.860367</td>\n",
              "      <td>-0.705952</td>\n",
              "      <td>-0.479070</td>\n",
              "      <td>-0.40292</td>\n",
              "      <td>-0.108403</td>\n",
              "      <td>-0.505892</td>\n",
              "      <td>-0.578847</td>\n",
              "      <td>0.284518</td>\n",
              "      <td>0.577920</td>\n",
              "      <td>-1.192847</td>\n",
              "    </tr>\n",
              "    <tr>\n",
              "      <th>84</th>\n",
              "      <td>0.502096</td>\n",
              "      <td>0.860367</td>\n",
              "      <td>-0.705952</td>\n",
              "      <td>-0.479070</td>\n",
              "      <td>-0.40292</td>\n",
              "      <td>-0.590187</td>\n",
              "      <td>0.607401</td>\n",
              "      <td>-0.128665</td>\n",
              "      <td>0.284518</td>\n",
              "      <td>0.577920</td>\n",
              "      <td>0.077140</td>\n",
              "    </tr>\n",
              "    <tr>\n",
              "      <th>...</th>\n",
              "      <td>...</td>\n",
              "      <td>...</td>\n",
              "      <td>...</td>\n",
              "      <td>...</td>\n",
              "      <td>...</td>\n",
              "      <td>...</td>\n",
              "      <td>...</td>\n",
              "      <td>...</td>\n",
              "      <td>...</td>\n",
              "      <td>...</td>\n",
              "      <td>...</td>\n",
              "    </tr>\n",
              "    <tr>\n",
              "      <th>71</th>\n",
              "      <td>0.502096</td>\n",
              "      <td>-1.121707</td>\n",
              "      <td>-0.705952</td>\n",
              "      <td>-0.479070</td>\n",
              "      <td>-0.40292</td>\n",
              "      <td>-0.486630</td>\n",
              "      <td>0.289856</td>\n",
              "      <td>-0.067829</td>\n",
              "      <td>0.284518</td>\n",
              "      <td>0.577920</td>\n",
              "      <td>0.077140</td>\n",
              "    </tr>\n",
              "    <tr>\n",
              "      <th>106</th>\n",
              "      <td>-1.727607</td>\n",
              "      <td>-1.121707</td>\n",
              "      <td>-0.705952</td>\n",
              "      <td>-0.479070</td>\n",
              "      <td>-0.40292</td>\n",
              "      <td>-0.525699</td>\n",
              "      <td>2.317427</td>\n",
              "      <td>-0.055662</td>\n",
              "      <td>0.284518</td>\n",
              "      <td>-1.730342</td>\n",
              "      <td>0.077140</td>\n",
              "    </tr>\n",
              "    <tr>\n",
              "      <th>270</th>\n",
              "      <td>0.502096</td>\n",
              "      <td>0.860367</td>\n",
              "      <td>1.402533</td>\n",
              "      <td>-0.479070</td>\n",
              "      <td>-0.40292</td>\n",
              "      <td>-0.256145</td>\n",
              "      <td>-0.505892</td>\n",
              "      <td>-0.262503</td>\n",
              "      <td>0.284518</td>\n",
              "      <td>0.577920</td>\n",
              "      <td>0.077140</td>\n",
              "    </tr>\n",
              "    <tr>\n",
              "      <th>435</th>\n",
              "      <td>0.502096</td>\n",
              "      <td>0.860367</td>\n",
              "      <td>1.402533</td>\n",
              "      <td>2.087377</td>\n",
              "      <td>-0.40292</td>\n",
              "      <td>-0.516315</td>\n",
              "      <td>0.041794</td>\n",
              "      <td>-1.175035</td>\n",
              "      <td>0.284518</td>\n",
              "      <td>0.577920</td>\n",
              "      <td>0.077140</td>\n",
              "    </tr>\n",
              "    <tr>\n",
              "      <th>102</th>\n",
              "      <td>0.502096</td>\n",
              "      <td>0.860367</td>\n",
              "      <td>-0.705952</td>\n",
              "      <td>-0.479070</td>\n",
              "      <td>-0.40292</td>\n",
              "      <td>0.059641</td>\n",
              "      <td>0.167554</td>\n",
              "      <td>0.406687</td>\n",
              "      <td>0.284518</td>\n",
              "      <td>0.577920</td>\n",
              "      <td>-1.192847</td>\n",
              "    </tr>\n",
              "  </tbody>\n",
              "</table>\n",
              "<p>452 rows × 11 columns</p>\n",
              "</div>\n",
              "      <button class=\"colab-df-convert\" onclick=\"convertToInteractive('df-c49347cb-083a-4b9e-8f2e-b6fbeb1bf9f1')\"\n",
              "              title=\"Convert this dataframe to an interactive table.\"\n",
              "              style=\"display:none;\">\n",
              "        \n",
              "  <svg xmlns=\"http://www.w3.org/2000/svg\" height=\"24px\"viewBox=\"0 0 24 24\"\n",
              "       width=\"24px\">\n",
              "    <path d=\"M0 0h24v24H0V0z\" fill=\"none\"/>\n",
              "    <path d=\"M18.56 5.44l.94 2.06.94-2.06 2.06-.94-2.06-.94-.94-2.06-.94 2.06-2.06.94zm-11 1L8.5 8.5l.94-2.06 2.06-.94-2.06-.94L8.5 2.5l-.94 2.06-2.06.94zm10 10l.94 2.06.94-2.06 2.06-.94-2.06-.94-.94-2.06-.94 2.06-2.06.94z\"/><path d=\"M17.41 7.96l-1.37-1.37c-.4-.4-.92-.59-1.43-.59-.52 0-1.04.2-1.43.59L10.3 9.45l-7.72 7.72c-.78.78-.78 2.05 0 2.83L4 21.41c.39.39.9.59 1.41.59.51 0 1.02-.2 1.41-.59l7.78-7.78 2.81-2.81c.8-.78.8-2.07 0-2.86zM5.41 20L4 18.59l7.72-7.72 1.47 1.35L5.41 20z\"/>\n",
              "  </svg>\n",
              "      </button>\n",
              "      \n",
              "  <style>\n",
              "    .colab-df-container {\n",
              "      display:flex;\n",
              "      flex-wrap:wrap;\n",
              "      gap: 12px;\n",
              "    }\n",
              "\n",
              "    .colab-df-convert {\n",
              "      background-color: #E8F0FE;\n",
              "      border: none;\n",
              "      border-radius: 50%;\n",
              "      cursor: pointer;\n",
              "      display: none;\n",
              "      fill: #1967D2;\n",
              "      height: 32px;\n",
              "      padding: 0 0 0 0;\n",
              "      width: 32px;\n",
              "    }\n",
              "\n",
              "    .colab-df-convert:hover {\n",
              "      background-color: #E2EBFA;\n",
              "      box-shadow: 0px 1px 2px rgba(60, 64, 67, 0.3), 0px 1px 3px 1px rgba(60, 64, 67, 0.15);\n",
              "      fill: #174EA6;\n",
              "    }\n",
              "\n",
              "    [theme=dark] .colab-df-convert {\n",
              "      background-color: #3B4455;\n",
              "      fill: #D2E3FC;\n",
              "    }\n",
              "\n",
              "    [theme=dark] .colab-df-convert:hover {\n",
              "      background-color: #434B5C;\n",
              "      box-shadow: 0px 1px 3px 1px rgba(0, 0, 0, 0.15);\n",
              "      filter: drop-shadow(0px 1px 2px rgba(0, 0, 0, 0.3));\n",
              "      fill: #FFFFFF;\n",
              "    }\n",
              "  </style>\n",
              "\n",
              "      <script>\n",
              "        const buttonEl =\n",
              "          document.querySelector('#df-c49347cb-083a-4b9e-8f2e-b6fbeb1bf9f1 button.colab-df-convert');\n",
              "        buttonEl.style.display =\n",
              "          google.colab.kernel.accessAllowed ? 'block' : 'none';\n",
              "\n",
              "        async function convertToInteractive(key) {\n",
              "          const element = document.querySelector('#df-c49347cb-083a-4b9e-8f2e-b6fbeb1bf9f1');\n",
              "          const dataTable =\n",
              "            await google.colab.kernel.invokeFunction('convertToInteractive',\n",
              "                                                     [key], {});\n",
              "          if (!dataTable) return;\n",
              "\n",
              "          const docLinkHtml = 'Like what you see? Visit the ' +\n",
              "            '<a target=\"_blank\" href=https://colab.research.google.com/notebooks/data_table.ipynb>data table notebook</a>'\n",
              "            + ' to learn more about interactive tables.';\n",
              "          element.innerHTML = '';\n",
              "          dataTable['output_type'] = 'display_data';\n",
              "          await google.colab.output.renderOutput(dataTable, element);\n",
              "          const docLink = document.createElement('div');\n",
              "          docLink.innerHTML = docLinkHtml;\n",
              "          element.appendChild(docLink);\n",
              "        }\n",
              "      </script>\n",
              "    </div>\n",
              "  </div>\n",
              "  "
            ]
          },
          "metadata": {},
          "execution_count": 59
        }
      ]
    },
    {
      "cell_type": "markdown",
      "source": [
        "# **Random Forest Model**"
      ],
      "metadata": {
        "id": "Fh1br1nR95TZ"
      }
    },
    {
      "cell_type": "code",
      "source": [
        "def randomForest(x_train, x_test, y_train, y_test):\n",
        "  rf = RandomForestClassifier() \n",
        "  rf.fit(x_train, y_train) \n",
        "  yPred = rf.predict(x_test) \n",
        "  print(\"**RandomForestClassifier**\"), print('Confusion matrix') \n",
        "  print(confusion_matrix(y_test, yPred)) \n",
        "  print('Classification report') \n",
        "  print(classification_report(y_test, yPred))"
      ],
      "metadata": {
        "id": "8jPVVAjZeQt_"
      },
      "execution_count": 60,
      "outputs": []
    },
    {
      "cell_type": "markdown",
      "source": [
        "# **Decision Tree Model**"
      ],
      "metadata": {
        "id": "p0XDenIa90IA"
      }
    },
    {
      "cell_type": "code",
      "source": [
        "def decisionTree(x_train, x_test, y_train, y_test):\n",
        "  dt=DecisionTreeClassifier()\n",
        "  dt.fit(x_train,y_train)\n",
        "  yPred = dt.predict(x_test)\n",
        "  print('**DecisionTreeClassifier**')\n",
        "  print('Confusion matrix')\n",
        "  print(confusion_matrix(y_test,yPred))\n",
        "  print('Classification report')\n",
        "  print(classification_report(y_test, yPred))"
      ],
      "metadata": {
        "id": "3CtZvfZw4TiI"
      },
      "execution_count": 61,
      "outputs": []
    },
    {
      "cell_type": "markdown",
      "source": [
        "# **KNN Model**"
      ],
      "metadata": {
        "id": "NZheTNCN98KH"
      }
    },
    {
      "cell_type": "code",
      "source": [
        "def KNN(x_train, x_test, y_train, y_test):\n",
        "  knn = KNeighborsClassifier() \n",
        "  knn.fit(x_train,y_train) \n",
        "  yPred = knn.predict(x_test) \n",
        "  print('**KNeighborsClassifier**') \n",
        "  print('Confusion matrix') \n",
        "  print(confusion_matrix(y_test, yPred))\n",
        "  print('Classification report')\n",
        "  print(classification_report(y_test, yPred))"
      ],
      "metadata": {
        "id": "d9gbxBQJ5liy"
      },
      "execution_count": 62,
      "outputs": []
    },
    {
      "cell_type": "markdown",
      "source": [
        "# **Xgboost Model**\n"
      ],
      "metadata": {
        "id": "Ntess59t-EMv"
      }
    },
    {
      "cell_type": "code",
      "source": [
        "def xgboost(x_train, x_test, y_train, y_test):\n",
        "  xg = KNeighborsClassifier() \n",
        "  xg.fit(x_train,y_train) \n",
        "  yPred = xg.predict(x_test) \n",
        "  print('**GradientBoostingClassifier**') \n",
        "  print('Confusion matrix') \n",
        "  print(confusion_matrix(y_test, yPred))\n",
        "  print('Classification report')\n",
        "  print(classification_report(y_test, yPred))"
      ],
      "metadata": {
        "id": "PFi-s8ME6V7H"
      },
      "execution_count": 63,
      "outputs": []
    },
    {
      "cell_type": "markdown",
      "source": [
        "# **Compare The Model**"
      ],
      "metadata": {
        "id": "XjPThWJv-Ipi"
      }
    },
    {
      "cell_type": "code",
      "source": [
        "randomForest(x_train, x_test, y_train, y_test)"
      ],
      "metadata": {
        "colab": {
          "base_uri": "https://localhost:8080/"
        },
        "id": "8RKWJ1IN6leH",
        "outputId": "5be10e4a-a1b7-445c-cd69-eef7ca8e2b32"
      },
      "execution_count": 64,
      "outputs": [
        {
          "output_type": "stream",
          "name": "stdout",
          "text": [
            "**RandomForestClassifier**\n",
            "Confusion matrix\n",
            "[[ 73  25]\n",
            " [ 17 108]]\n",
            "Classification report\n",
            "              precision    recall  f1-score   support\n",
            "\n",
            "           0       0.81      0.74      0.78        98\n",
            "           1       0.81      0.86      0.84       125\n",
            "\n",
            "    accuracy                           0.81       223\n",
            "   macro avg       0.81      0.80      0.81       223\n",
            "weighted avg       0.81      0.81      0.81       223\n",
            "\n"
          ]
        }
      ]
    },
    {
      "cell_type": "code",
      "source": [
        "decisionTree(x_train, x_test, y_train, y_test)"
      ],
      "metadata": {
        "colab": {
          "base_uri": "https://localhost:8080/"
        },
        "id": "2zydsxfS6t3R",
        "outputId": "7c6fa9c7-9a82-4c07-f8ad-2ee45977ed47"
      },
      "execution_count": 65,
      "outputs": [
        {
          "output_type": "stream",
          "name": "stdout",
          "text": [
            "**DecisionTreeClassifier**\n",
            "Confusion matrix\n",
            "[[77 21]\n",
            " [39 86]]\n",
            "Classification report\n",
            "              precision    recall  f1-score   support\n",
            "\n",
            "           0       0.66      0.79      0.72        98\n",
            "           1       0.80      0.69      0.74       125\n",
            "\n",
            "    accuracy                           0.73       223\n",
            "   macro avg       0.73      0.74      0.73       223\n",
            "weighted avg       0.74      0.73      0.73       223\n",
            "\n"
          ]
        }
      ]
    },
    {
      "cell_type": "code",
      "source": [
        "KNN(x_train, x_test, y_train, y_test)"
      ],
      "metadata": {
        "colab": {
          "base_uri": "https://localhost:8080/"
        },
        "id": "XGdGxzp_6zAa",
        "outputId": "8af38152-987a-4369-a238-21b87f559a66"
      },
      "execution_count": 66,
      "outputs": [
        {
          "output_type": "stream",
          "name": "stdout",
          "text": [
            "**KNeighborsClassifier**\n",
            "Confusion matrix\n",
            "[[ 67  31]\n",
            " [ 21 104]]\n",
            "Classification report\n",
            "              precision    recall  f1-score   support\n",
            "\n",
            "           0       0.76      0.68      0.72        98\n",
            "           1       0.77      0.83      0.80       125\n",
            "\n",
            "    accuracy                           0.77       223\n",
            "   macro avg       0.77      0.76      0.76       223\n",
            "weighted avg       0.77      0.77      0.77       223\n",
            "\n"
          ]
        }
      ]
    },
    {
      "cell_type": "code",
      "source": [
        "xgboost(x_train, x_test, y_train, y_test)"
      ],
      "metadata": {
        "colab": {
          "base_uri": "https://localhost:8080/"
        },
        "id": "Eud7z-IH64OB",
        "outputId": "81a37875-eab7-4ab7-ef4b-1c2dcf999301"
      },
      "execution_count": 67,
      "outputs": [
        {
          "output_type": "stream",
          "name": "stdout",
          "text": [
            "**GradientBoostingClassifier**\n",
            "Confusion matrix\n",
            "[[ 67  31]\n",
            " [ 21 104]]\n",
            "Classification report\n",
            "              precision    recall  f1-score   support\n",
            "\n",
            "           0       0.76      0.68      0.72        98\n",
            "           1       0.77      0.83      0.80       125\n",
            "\n",
            "    accuracy                           0.77       223\n",
            "   macro avg       0.77      0.76      0.76       223\n",
            "weighted avg       0.77      0.77      0.77       223\n",
            "\n"
          ]
        }
      ]
    },
    {
      "cell_type": "markdown",
      "source": [
        "# **Evaluating Performance Of The Model And Saving The Model**"
      ],
      "metadata": {
        "id": "GYbEHxGY-PL4"
      }
    },
    {
      "cell_type": "code",
      "source": [
        "rf = RandomForestClassifier() \n",
        "rf.fit(x_train, y_train) \n",
        "yPred = rf.predict(x_test)"
      ],
      "metadata": {
        "id": "nhio0ZdC7ZPK"
      },
      "execution_count": 68,
      "outputs": []
    },
    {
      "cell_type": "code",
      "source": [
        "f1_score(yPred, y_test, average='weighted')"
      ],
      "metadata": {
        "colab": {
          "base_uri": "https://localhost:8080/"
        },
        "id": "6abDb0Fz7sq_",
        "outputId": "6d2195bd-a64f-477a-e64a-e7666af2f3bf"
      },
      "execution_count": 73,
      "outputs": [
        {
          "output_type": "execute_result",
          "data": {
            "text/plain": [
              "0.8042001876805869"
            ]
          },
          "metadata": {},
          "execution_count": 73
        }
      ]
    },
    {
      "cell_type": "code",
      "source": [
        "cv = cross_val_score(rf, x, y, cv=5)"
      ],
      "metadata": {
        "id": "H7HjBpT48BEZ"
      },
      "execution_count": 74,
      "outputs": []
    },
    {
      "cell_type": "code",
      "source": [
        "np.mean(cv)"
      ],
      "metadata": {
        "colab": {
          "base_uri": "https://localhost:8080/"
        },
        "id": "6X2B7NdG8SbZ",
        "outputId": "d06e4c35-3c1c-4938-b906-dc9cef5a9e1b"
      },
      "execution_count": 75,
      "outputs": [
        {
          "output_type": "execute_result",
          "data": {
            "text/plain": [
              "0.7817406370785018"
            ]
          },
          "metadata": {},
          "execution_count": 75
        }
      ]
    },
    {
      "cell_type": "code",
      "source": [
        "pickle.dump(rf, open('rdf.pkl','wb'))"
      ],
      "metadata": {
        "id": "TUVLW-1h8fBK"
      },
      "execution_count": 76,
      "outputs": []
    }
  ]
}
